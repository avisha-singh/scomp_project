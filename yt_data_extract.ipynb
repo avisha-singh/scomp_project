{
  "nbformat": 4,
  "nbformat_minor": 0,
  "metadata": {
    "colab": {
      "provenance": [],
      "authorship_tag": "ABX9TyN8r57bpaq/jBxi9fw8OYLf",
      "include_colab_link": true
    },
    "kernelspec": {
      "name": "python3",
      "display_name": "Python 3"
    },
    "language_info": {
      "name": "python"
    },
    "accelerator": "GPU",
    "gpuClass": "standard"
  },
  "cells": [
    {
      "cell_type": "markdown",
      "metadata": {
        "id": "view-in-github",
        "colab_type": "text"
      },
      "source": [
        "<a href=\"https://colab.research.google.com/github/srohit310/scomp_project/blob/main/yt_data_extract.ipynb\" target=\"_parent\"><img src=\"https://colab.research.google.com/assets/colab-badge.svg\" alt=\"Open In Colab\"/></a>"
      ]
    },
    {
      "cell_type": "code",
      "source": [
        "!pip install pytube\n",
        "!pip install imageio==2.4.1\n",
        "!pip install youtube_comment_downloader"
      ],
      "metadata": {
        "colab": {
          "base_uri": "https://localhost:8080/"
        },
        "id": "-2OViL5kSbMU",
        "outputId": "f4986cb5-7797-4dff-da19-533a8264aad9"
      },
      "execution_count": 1,
      "outputs": [
        {
          "output_type": "stream",
          "name": "stdout",
          "text": [
            "Looking in indexes: https://pypi.org/simple, https://us-python.pkg.dev/colab-wheels/public/simple/\n",
            "Collecting pytube\n",
            "  Downloading pytube-12.1.2-py3-none-any.whl (57 kB)\n",
            "\u001b[K     |████████████████████████████████| 57 kB 5.3 MB/s \n",
            "\u001b[?25hInstalling collected packages: pytube\n",
            "Successfully installed pytube-12.1.2\n",
            "Looking in indexes: https://pypi.org/simple, https://us-python.pkg.dev/colab-wheels/public/simple/\n",
            "Collecting imageio==2.4.1\n",
            "  Downloading imageio-2.4.1.tar.gz (3.3 MB)\n",
            "\u001b[K     |████████████████████████████████| 3.3 MB 21.2 MB/s \n",
            "\u001b[?25hRequirement already satisfied: numpy in /usr/local/lib/python3.8/dist-packages (from imageio==2.4.1) (1.21.6)\n",
            "Requirement already satisfied: pillow in /usr/local/lib/python3.8/dist-packages (from imageio==2.4.1) (7.1.2)\n",
            "Building wheels for collected packages: imageio\n",
            "  Building wheel for imageio (setup.py) ... \u001b[?25l\u001b[?25hdone\n",
            "  Created wheel for imageio: filename=imageio-2.4.1-py3-none-any.whl size=3303886 sha256=3e9731c6f48a95055da845d1270fd972b9ab48d6e91ae25deb0aa6bc6c5a2280\n",
            "  Stored in directory: /root/.cache/pip/wheels/be/7b/04/4d8d56f1d503e5c404f0de6018c0cfa592c71588a39b49e002\n",
            "Successfully built imageio\n",
            "Installing collected packages: imageio\n",
            "  Attempting uninstall: imageio\n",
            "    Found existing installation: imageio 2.9.0\n",
            "    Uninstalling imageio-2.9.0:\n",
            "      Successfully uninstalled imageio-2.9.0\n",
            "Successfully installed imageio-2.4.1\n",
            "Looking in indexes: https://pypi.org/simple, https://us-python.pkg.dev/colab-wheels/public/simple/\n",
            "Collecting youtube_comment_downloader\n",
            "  Downloading youtube_comment_downloader-0.1.67-py3-none-any.whl (7.6 kB)\n",
            "Requirement already satisfied: requests in /usr/local/lib/python3.8/dist-packages (from youtube_comment_downloader) (2.23.0)\n",
            "Collecting dateparser\n",
            "  Downloading dateparser-1.1.4-py2.py3-none-any.whl (292 kB)\n",
            "\u001b[K     |████████████████████████████████| 292 kB 20.4 MB/s \n",
            "\u001b[?25hRequirement already satisfied: python-dateutil in /usr/local/lib/python3.8/dist-packages (from dateparser->youtube_comment_downloader) (2.8.2)\n",
            "Requirement already satisfied: pytz in /usr/local/lib/python3.8/dist-packages (from dateparser->youtube_comment_downloader) (2022.6)\n",
            "Requirement already satisfied: regex!=2019.02.19,!=2021.8.27 in /usr/local/lib/python3.8/dist-packages (from dateparser->youtube_comment_downloader) (2022.6.2)\n",
            "Requirement already satisfied: tzlocal in /usr/local/lib/python3.8/dist-packages (from dateparser->youtube_comment_downloader) (1.5.1)\n",
            "Requirement already satisfied: six>=1.5 in /usr/local/lib/python3.8/dist-packages (from python-dateutil->dateparser->youtube_comment_downloader) (1.15.0)\n",
            "Requirement already satisfied: chardet<4,>=3.0.2 in /usr/local/lib/python3.8/dist-packages (from requests->youtube_comment_downloader) (3.0.4)\n",
            "Requirement already satisfied: idna<3,>=2.5 in /usr/local/lib/python3.8/dist-packages (from requests->youtube_comment_downloader) (2.10)\n",
            "Requirement already satisfied: certifi>=2017.4.17 in /usr/local/lib/python3.8/dist-packages (from requests->youtube_comment_downloader) (2022.12.7)\n",
            "Requirement already satisfied: urllib3!=1.25.0,!=1.25.1,<1.26,>=1.21.1 in /usr/local/lib/python3.8/dist-packages (from requests->youtube_comment_downloader) (1.24.3)\n",
            "Installing collected packages: dateparser, youtube-comment-downloader\n",
            "Successfully installed dateparser-1.1.4 youtube-comment-downloader-0.1.67\n"
          ]
        }
      ]
    },
    {
      "cell_type": "code",
      "execution_count": 2,
      "metadata": {
        "colab": {
          "base_uri": "https://localhost:8080/"
        },
        "id": "V-qh2wTLSIHQ",
        "outputId": "9379e033-3ab5-4225-e6b8-6e830b8e4b18"
      },
      "outputs": [
        {
          "output_type": "stream",
          "name": "stdout",
          "text": [
            "Imageio: 'ffmpeg-linux64-v3.3.1' was not found on your computer; downloading it now.\n",
            "Try 1. Download from https://github.com/imageio/imageio-binaries/raw/master/ffmpeg/ffmpeg-linux64-v3.3.1 (43.8 MB)\n",
            "Downloading: 8192/45929032 bytes (0.0%)\b\b\b\b\b\b\b\b\b\b\b\b\b\b\b\b\b\b\b\b\b\b\b\b\b\b4087808/45929032 bytes (8.9%)\b\b\b\b\b\b\b\b\b\b\b\b\b\b\b\b\b\b\b\b\b\b\b\b\b\b\b\b\b8380416/45929032 bytes (18.2%)\b\b\b\b\b\b\b\b\b\b\b\b\b\b\b\b\b\b\b\b\b\b\b\b\b\b\b\b\b\b12615680/45929032 bytes (27.5%)\b\b\b\b\b\b\b\b\b\b\b\b\b\b\b\b\b\b\b\b\b\b\b\b\b\b\b\b\b\b\b16850944/45929032 bytes (36.7%)\b\b\b\b\b\b\b\b\b\b\b\b\b\b\b\b\b\b\b\b\b\b\b\b\b\b\b\b\b\b\b21176320/45929032 bytes (46.1%)\b\b\b\b\b\b\b\b\b\b\b\b\b\b\b\b\b\b\b\b\b\b\b\b\b\b\b\b\b\b\b24444928/45929032 bytes (53.2%)\b\b\b\b\b\b\b\b\b\b\b\b\b\b\b\b\b\b\b\b\b\b\b\b\b\b\b\b\b\b\b27639808/45929032 bytes (60.2%)\b\b\b\b\b\b\b\b\b\b\b\b\b\b\b\b\b\b\b\b\b\b\b\b\b\b\b\b\b\b\b31301632/45929032 bytes (68.2%)\b\b\b\b\b\b\b\b\b\b\b\b\b\b\b\b\b\b\b\b\b\b\b\b\b\b\b\b\b\b\b35356672/45929032 bytes (77.0%)\b\b\b\b\b\b\b\b\b\b\b\b\b\b\b\b\b\b\b\b\b\b\b\b\b\b\b\b\b\b\b39649280/45929032 bytes (86.3%)\b\b\b\b\b\b\b\b\b\b\b\b\b\b\b\b\b\b\b\b\b\b\b\b\b\b\b\b\b\b\b43778048/45929032 bytes (95.3%)\b\b\b\b\b\b\b\b\b\b\b\b\b\b\b\b\b\b\b\b\b\b\b\b\b\b\b\b\b\b\b45929032/45929032 bytes (100.0%)\n",
            "  Done\n",
            "File saved as /root/.imageio/ffmpeg/ffmpeg-linux64-v3.3.1.\n"
          ]
        }
      ],
      "source": [
        "from pytube import YouTube, extract\n",
        "from pytube.cli import on_progress\n",
        "from moviepy.editor import *\n",
        "import os, uuid, cv2, pandas as pd\n",
        "from itertools import islice\n",
        "from youtube_comment_downloader import *\n",
        "from IPython.display import Markdown, display"
      ]
    },
    {
      "cell_type": "code",
      "source": [
        "def printmd(string):\n",
        "    display(Markdown(string))"
      ],
      "metadata": {
        "id": "Zmq4DwiOYmFc"
      },
      "execution_count": 3,
      "outputs": []
    },
    {
      "cell_type": "code",
      "source": [
        "from google.colab import drive\n",
        "drive.mount('/content/drive/')\n",
        "os.chdir('drive/MyDrive')\n",
        "\n",
        "if not os.path.exists('scomp_project'):\n",
        "    os.mkdir('scomp_project')\n",
        "    printmd(\"**A folder called scomp_project has been made for you, Please insert the video data csv file into it and rename it to video_data_url.csv**\")\n",
        "\n",
        "os.chdir('scomp_project')"
      ],
      "metadata": {
        "colab": {
          "base_uri": "https://localhost:8080/"
        },
        "id": "QKqMC_liU-v2",
        "outputId": "cb612c14-df36-426c-ac6a-a760136f2d3b"
      },
      "execution_count": 4,
      "outputs": [
        {
          "output_type": "stream",
          "name": "stdout",
          "text": [
            "Mounted at /content/drive/\n"
          ]
        }
      ]
    },
    {
      "cell_type": "code",
      "source": [
        "def fetch_comments(link):\n",
        "\n",
        "    comments = []\n",
        "\n",
        "    while True:\n",
        "\n",
        "        try:\n",
        "            downloader = YoutubeCommentDownloader()\n",
        "            comments_list = []\n",
        "            comments = downloader.get_comments_from_url(link, sort_by=SORT_BY_POPULAR)\n",
        "            break\n",
        "        \n",
        "        except:\n",
        "            continue\n",
        "\n",
        "    for comment in islice(comments, 10):\n",
        "        comments_list.append(comment['text'])\n",
        "    \n",
        "    return comments_list"
      ],
      "metadata": {
        "id": "c3wm1Y0rSM_Q"
      },
      "execution_count": 5,
      "outputs": []
    },
    {
      "cell_type": "code",
      "source": [
        "def DownloadYoutube(link, id, new_df):\n",
        "\n",
        "    name = ''\n",
        "\n",
        "    try:\n",
        "        youtubeObject = YouTube(link, on_progress_callback=on_progress)\n",
        "\n",
        "        new_df[id]['title'] = youtubeObject.title\n",
        "        new_df[id]['description'] = youtubeObject.description\n",
        "        new_df[id]['comments'] = fetch_comments(link)\n",
        "        new_df[id]['filenames'] = []\n",
        "\n",
        "        youtubeObject = youtubeObject.streams.get_highest_resolution()\n",
        "\n",
        "        name = str(uuid.uuid4()) + '.mp4'\n",
        "        youtubeObject.download(output_path='videos',filename=name)\n",
        "        print(\"Download is completed successfully\")\n",
        "\n",
        "    except:\n",
        "        name = ''\n",
        "        print(\"An error has occurred\")\n",
        "\n",
        "    return name, new_df"
      ],
      "metadata": {
        "id": "jH2oQa5CTJlb"
      },
      "execution_count": 6,
      "outputs": []
    },
    {
      "cell_type": "code",
      "source": [
        "def convert_to_seconds(time):\n",
        "\n",
        "    time_div = time.split(':')\n",
        "    m_arr = [1,60,60*60]\n",
        "    seconds = 0\n",
        "\n",
        "    for count, time in enumerate(reversed(time_div)):\n",
        "        seconds += int(time)*m_arr[count]    \n",
        "\n",
        "    return seconds"
      ],
      "metadata": {
        "id": "IVnHbRziTOGR"
      },
      "execution_count": 7,
      "outputs": []
    },
    {
      "cell_type": "code",
      "source": [
        "def collect_images(path ,img_nos):\n",
        "\n",
        "    cam = cv2.VideoCapture(path+\".mp4\")\n",
        "    totframe = 0\n",
        "  \n",
        "    while(True):\n",
        "      \n",
        "        ret, frame = cam.read()\n",
        "        if ret: totframe += 1\n",
        "        else: break\n",
        "\n",
        "    cam.release()\n",
        "    cam = cv2.VideoCapture(path+\".mp4\")\n",
        "\n",
        "    curr_frame = 0\n",
        "    capt_inc = int(totframe/(img_nos+1))\n",
        "    capt_pnt = int(totframe/(img_nos+1))\n",
        "    orig_img_nos = img_nos\n",
        "\n",
        "    if not os.path.exists(path):\n",
        "        os.mkdir(path)\n",
        "\n",
        "    while img_nos != 0:\n",
        "      \n",
        "        ret, frame = cam.read()\n",
        "        if ret:\n",
        "\n",
        "            if curr_frame == capt_pnt:\n",
        "                \n",
        "                name = path +'/frame'+ str(curr_frame) + '.jpg'\n",
        "                cv2.imwrite(name, frame)\n",
        "                capt_pnt += capt_inc\n",
        "                img_nos -= 1\n",
        "                \n",
        "            curr_frame += 1\n",
        "\n",
        "        else:\n",
        "            break\n",
        "    \n",
        "    cam.release()\n",
        "    cv2.destroyAllWindows()\n",
        "\n",
        "    print('Collected '+str(orig_img_nos)+' images from video\\n\\n')"
      ],
      "metadata": {
        "id": "mnD7nnz3TPT_"
      },
      "execution_count": 11,
      "outputs": []
    },
    {
      "cell_type": "code",
      "source": [
        "def crop_out_video(filename, timefetch, emotion, id, new_df, index):\n",
        "\n",
        "    timelimits = timefetch.split('-')\n",
        "    start_time = timelimits[0].strip()\n",
        "    end_time = timelimits[1].strip()\n",
        "            \n",
        "    start_time = convert_to_seconds(start_time)\n",
        "    end_time = convert_to_seconds(end_time)\n",
        "            \n",
        "    video = VideoFileClip('videos/'+filename).subclip(start_time, end_time)\n",
        "\n",
        "    if not os.path.exists('cropped_videos/'+emotion):\n",
        "        os.mkdir('cropped_videos/'+emotion)\n",
        "            \n",
        "    new_filename = str(uuid.uuid4())\n",
        "    new_df[id]['filenames'].append(new_filename+ '.mp4')\n",
        "    video.write_videofile('cropped_videos/'+emotion+'/'+new_filename+ '.mp4') \n",
        "    video.close()\n",
        "    print('Video '+str(index)+' downloaded')\n",
        "\n",
        "    collect_images('cropped_videos/'+emotion+'/'+new_filename, 6)\n",
        "\n",
        "    return new_df"
      ],
      "metadata": {
        "id": "kAKQPFHYTTbj"
      },
      "execution_count": 12,
      "outputs": []
    },
    {
      "cell_type": "code",
      "source": [
        "if __name__ == '__main__':\n",
        "\n",
        "    df = pd.read_csv('video_data_url.csv')\n",
        "\n",
        "    new_df = {}\n",
        "\n",
        "    link_y_map = {}\n",
        "\n",
        "    if not os.path.exists('videos'):\n",
        "        os.mkdir('videos')\n",
        "\n",
        "    if not os.path.exists('cropped_videos'):\n",
        "        os.mkdir('cropped_videos')\n",
        "    \n",
        "    for index, row in df.iterrows():\n",
        "        \n",
        "        link = row['Url']\n",
        "\n",
        "        id = extract.video_id(link)\n",
        "\n",
        "        if id in link_y_map:\n",
        "            filename = link_y_map[id]\n",
        "        else:\n",
        "            new_df[id] = {}\n",
        "            new_df[id]['emotion'] = row['Emotion']\n",
        "            filename, new_df = DownloadYoutube(link, id, new_df)\n",
        "            link_y_map[id] = filename\n",
        "    \n",
        "        if len(filename)>0:\n",
        "\n",
        "            new_df = crop_out_video(filename, row['Timestamp'], row['Emotion'], id, new_df, index)\n",
        "\n",
        "    post_df = pd.DataFrame.from_dict(new_df)\n",
        "    post_df = post_df.transpose()\n",
        "    post_df.to_csv('cropped_videos/posts_data.csv', encoding='utf-8-sig')"
      ],
      "metadata": {
        "colab": {
          "base_uri": "https://localhost:8080/"
        },
        "id": "FZESqXw1TVl0",
        "outputId": "1d817366-7461-4be0-afd8-dbda6b41fd13"
      },
      "execution_count": 13,
      "outputs": [
        {
          "output_type": "stream",
          "name": "stdout",
          "text": [
            "Download is completed successfully\n",
            "[MoviePy] >>>> Building video cropped_videos/Happy/56382254-07b5-41a9-8a47-1053748c0567.mp4\n",
            "[MoviePy] Writing audio in 56382254-07b5-41a9-8a47-1053748c0567TEMP_MPY_wvf_snd.mp3\n"
          ]
        },
        {
          "output_type": "stream",
          "name": "stderr",
          "text": [
            "100%|██████████| 221/221 [00:00<00:00, 679.20it/s]"
          ]
        },
        {
          "output_type": "stream",
          "name": "stdout",
          "text": [
            "[MoviePy] Done.\n",
            "[MoviePy] Writing video cropped_videos/Happy/56382254-07b5-41a9-8a47-1053748c0567.mp4\n"
          ]
        },
        {
          "output_type": "stream",
          "name": "stderr",
          "text": [
            "\n",
            "100%|█████████▉| 300/301 [00:11<00:00, 25.74it/s]\n"
          ]
        },
        {
          "output_type": "stream",
          "name": "stdout",
          "text": [
            "[MoviePy] Done.\n",
            "[MoviePy] >>>> Video ready: cropped_videos/Happy/56382254-07b5-41a9-8a47-1053748c0567.mp4 \n",
            "\n",
            "Video 0 downloaded\n",
            "Collected 6 images from video\n",
            "\n",
            "\n",
            "[MoviePy] >>>> Building video cropped_videos/Happy/e53bd6ef-7fbc-4fe2-8fbd-f6fb5b6477b2.mp4\n",
            "[MoviePy] Writing audio in e53bd6ef-7fbc-4fe2-8fbd-f6fb5b6477b2TEMP_MPY_wvf_snd.mp3\n"
          ]
        },
        {
          "output_type": "stream",
          "name": "stderr",
          "text": [
            "100%|██████████| 221/221 [00:00<00:00, 652.71it/s]"
          ]
        },
        {
          "output_type": "stream",
          "name": "stdout",
          "text": [
            "[MoviePy] Done.\n",
            "[MoviePy] Writing video cropped_videos/Happy/e53bd6ef-7fbc-4fe2-8fbd-f6fb5b6477b2.mp4\n"
          ]
        },
        {
          "output_type": "stream",
          "name": "stderr",
          "text": [
            "\n",
            "100%|█████████▉| 300/301 [00:12<00:00, 23.75it/s]\n"
          ]
        },
        {
          "output_type": "stream",
          "name": "stdout",
          "text": [
            "[MoviePy] Done.\n",
            "[MoviePy] >>>> Video ready: cropped_videos/Happy/e53bd6ef-7fbc-4fe2-8fbd-f6fb5b6477b2.mp4 \n",
            "\n",
            "Video 1 downloaded\n",
            "Collected 6 images from video\n",
            "\n",
            "\n",
            "Download is completed successfully\n",
            "[MoviePy] >>>> Building video cropped_videos/Happy/b99b2b1b-e2c0-4188-bd2c-541ab652d852.mp4\n",
            "[MoviePy] Writing audio in b99b2b1b-e2c0-4188-bd2c-541ab652d852TEMP_MPY_wvf_snd.mp3\n"
          ]
        },
        {
          "output_type": "stream",
          "name": "stderr",
          "text": [
            "100%|██████████| 221/221 [00:00<00:00, 410.65it/s]"
          ]
        },
        {
          "output_type": "stream",
          "name": "stdout",
          "text": [
            "[MoviePy] Done.\n",
            "[MoviePy] Writing video cropped_videos/Happy/b99b2b1b-e2c0-4188-bd2c-541ab652d852.mp4\n"
          ]
        },
        {
          "output_type": "stream",
          "name": "stderr",
          "text": [
            "\n",
            "100%|██████████| 300/300 [00:11<00:00, 26.26it/s]\n"
          ]
        },
        {
          "output_type": "stream",
          "name": "stdout",
          "text": [
            "[MoviePy] Done.\n",
            "[MoviePy] >>>> Video ready: cropped_videos/Happy/b99b2b1b-e2c0-4188-bd2c-541ab652d852.mp4 \n",
            "\n",
            "Video 2 downloaded\n",
            "Collected 6 images from video\n",
            "\n",
            "\n",
            "Download is completed successfully\n",
            "[MoviePy] >>>> Building video cropped_videos/Happy/2b068bc6-b62e-4841-a537-9ac996b2d64f.mp4\n",
            "[MoviePy] Writing audio in 2b068bc6-b62e-4841-a537-9ac996b2d64fTEMP_MPY_wvf_snd.mp3\n"
          ]
        },
        {
          "output_type": "stream",
          "name": "stderr",
          "text": [
            "100%|██████████| 221/221 [00:00<00:00, 526.06it/s]"
          ]
        },
        {
          "output_type": "stream",
          "name": "stdout",
          "text": [
            "[MoviePy] Done.\n",
            "[MoviePy] Writing video cropped_videos/Happy/2b068bc6-b62e-4841-a537-9ac996b2d64f.mp4\n"
          ]
        },
        {
          "output_type": "stream",
          "name": "stderr",
          "text": [
            "\n",
            "100%|█████████▉| 300/301 [00:10<00:00, 28.36it/s]\n"
          ]
        },
        {
          "output_type": "stream",
          "name": "stdout",
          "text": [
            "[MoviePy] Done.\n",
            "[MoviePy] >>>> Video ready: cropped_videos/Happy/2b068bc6-b62e-4841-a537-9ac996b2d64f.mp4 \n",
            "\n",
            "Video 3 downloaded\n",
            "Collected 6 images from video\n",
            "\n",
            "\n",
            "Download is completed successfully\n",
            "[MoviePy] >>>> Building video cropped_videos/Happy/532f96ff-1cb3-4e2e-98f5-1857b22ea710.mp4\n",
            "[MoviePy] Writing audio in 532f96ff-1cb3-4e2e-98f5-1857b22ea710TEMP_MPY_wvf_snd.mp3\n"
          ]
        },
        {
          "output_type": "stream",
          "name": "stderr",
          "text": [
            "100%|██████████| 221/221 [00:00<00:00, 410.44it/s]"
          ]
        },
        {
          "output_type": "stream",
          "name": "stdout",
          "text": [
            "[MoviePy] Done.\n",
            "[MoviePy] Writing video cropped_videos/Happy/532f96ff-1cb3-4e2e-98f5-1857b22ea710.mp4\n"
          ]
        },
        {
          "output_type": "stream",
          "name": "stderr",
          "text": [
            "\n",
            "100%|█████████▉| 250/251 [00:15<00:00, 15.83it/s]\n"
          ]
        },
        {
          "output_type": "stream",
          "name": "stdout",
          "text": [
            "[MoviePy] Done.\n",
            "[MoviePy] >>>> Video ready: cropped_videos/Happy/532f96ff-1cb3-4e2e-98f5-1857b22ea710.mp4 \n",
            "\n",
            "Video 4 downloaded\n",
            "Collected 6 images from video\n",
            "\n",
            "\n",
            "[MoviePy] >>>> Building video cropped_videos/Happy/c147a023-c6f3-416a-9191-24cd95e65705.mp4\n",
            "[MoviePy] Writing audio in c147a023-c6f3-416a-9191-24cd95e65705TEMP_MPY_wvf_snd.mp3\n"
          ]
        },
        {
          "output_type": "stream",
          "name": "stderr",
          "text": [
            "100%|██████████| 177/177 [00:00<00:00, 482.50it/s]"
          ]
        },
        {
          "output_type": "stream",
          "name": "stdout",
          "text": [
            "[MoviePy] Done.\n",
            "[MoviePy] Writing video cropped_videos/Happy/c147a023-c6f3-416a-9191-24cd95e65705.mp4\n"
          ]
        },
        {
          "output_type": "stream",
          "name": "stderr",
          "text": [
            "\n",
            "100%|█████████▉| 200/201 [00:06<00:00, 29.69it/s]\n"
          ]
        },
        {
          "output_type": "stream",
          "name": "stdout",
          "text": [
            "[MoviePy] Done.\n",
            "[MoviePy] >>>> Video ready: cropped_videos/Happy/c147a023-c6f3-416a-9191-24cd95e65705.mp4 \n",
            "\n",
            "Video 5 downloaded\n",
            "Collected 6 images from video\n",
            "\n",
            "\n",
            "Download is completed successfully\n",
            "[MoviePy] >>>> Building video cropped_videos/Happy/636a4583-f41b-425f-afc6-f9688c1db892.mp4\n",
            "[MoviePy] Writing audio in 636a4583-f41b-425f-afc6-f9688c1db892TEMP_MPY_wvf_snd.mp3\n"
          ]
        },
        {
          "output_type": "stream",
          "name": "stderr",
          "text": [
            "100%|██████████| 221/221 [00:00<00:00, 566.55it/s]\n"
          ]
        },
        {
          "output_type": "stream",
          "name": "stdout",
          "text": [
            "[MoviePy] Done.\n",
            "[MoviePy] Writing video cropped_videos/Happy/636a4583-f41b-425f-afc6-f9688c1db892.mp4\n"
          ]
        },
        {
          "output_type": "stream",
          "name": "stderr",
          "text": [
            "100%|█████████▉| 300/301 [00:12<00:00, 23.98it/s]\n"
          ]
        },
        {
          "output_type": "stream",
          "name": "stdout",
          "text": [
            "[MoviePy] Done.\n",
            "[MoviePy] >>>> Video ready: cropped_videos/Happy/636a4583-f41b-425f-afc6-f9688c1db892.mp4 \n",
            "\n",
            "Video 6 downloaded\n",
            "Collected 6 images from video\n",
            "\n",
            "\n",
            "Download is completed successfully\n",
            "[MoviePy] >>>> Building video cropped_videos/Happy/48433b99-2442-4968-82cb-bcc427e199b0.mp4\n",
            "[MoviePy] Writing audio in 48433b99-2442-4968-82cb-bcc427e199b0TEMP_MPY_wvf_snd.mp3\n"
          ]
        },
        {
          "output_type": "stream",
          "name": "stderr",
          "text": [
            "100%|██████████| 221/221 [00:00<00:00, 536.35it/s]"
          ]
        },
        {
          "output_type": "stream",
          "name": "stdout",
          "text": [
            "[MoviePy] Done.\n",
            "[MoviePy] Writing video cropped_videos/Happy/48433b99-2442-4968-82cb-bcc427e199b0.mp4\n"
          ]
        },
        {
          "output_type": "stream",
          "name": "stderr",
          "text": [
            "\n",
            "100%|█████████▉| 300/301 [00:15<00:00, 19.13it/s]\n"
          ]
        },
        {
          "output_type": "stream",
          "name": "stdout",
          "text": [
            "[MoviePy] Done.\n",
            "[MoviePy] >>>> Video ready: cropped_videos/Happy/48433b99-2442-4968-82cb-bcc427e199b0.mp4 \n",
            "\n",
            "Video 7 downloaded\n",
            "Collected 6 images from video\n",
            "\n",
            "\n",
            "Download is completed successfully\n",
            "[MoviePy] >>>> Building video cropped_videos/Happy/6a4e84fc-4d47-46bd-86e7-e4edd395675d.mp4\n",
            "[MoviePy] Writing audio in 6a4e84fc-4d47-46bd-86e7-e4edd395675dTEMP_MPY_wvf_snd.mp3\n"
          ]
        },
        {
          "output_type": "stream",
          "name": "stderr",
          "text": [
            "100%|██████████| 221/221 [00:00<00:00, 620.30it/s]"
          ]
        },
        {
          "output_type": "stream",
          "name": "stdout",
          "text": [
            "[MoviePy] Done.\n",
            "[MoviePy] Writing video cropped_videos/Happy/6a4e84fc-4d47-46bd-86e7-e4edd395675d.mp4\n"
          ]
        },
        {
          "output_type": "stream",
          "name": "stderr",
          "text": [
            "\n",
            "100%|██████████| 240/240 [00:02<00:00, 99.22it/s]\n"
          ]
        },
        {
          "output_type": "stream",
          "name": "stdout",
          "text": [
            "[MoviePy] Done.\n",
            "[MoviePy] >>>> Video ready: cropped_videos/Happy/6a4e84fc-4d47-46bd-86e7-e4edd395675d.mp4 \n",
            "\n",
            "Video 8 downloaded\n",
            "Collected 6 images from video\n",
            "\n",
            "\n",
            "[MoviePy] >>>> Building video cropped_videos/Happy/e37a7566-56bc-4ecc-b617-10516ceb10ae.mp4\n",
            "[MoviePy] Writing audio in e37a7566-56bc-4ecc-b617-10516ceb10aeTEMP_MPY_wvf_snd.mp3\n"
          ]
        },
        {
          "output_type": "stream",
          "name": "stderr",
          "text": [
            "100%|██████████| 221/221 [00:00<00:00, 486.06it/s]"
          ]
        },
        {
          "output_type": "stream",
          "name": "stdout",
          "text": [
            "[MoviePy] Done.\n",
            "[MoviePy] Writing video cropped_videos/Happy/e37a7566-56bc-4ecc-b617-10516ceb10ae.mp4\n"
          ]
        },
        {
          "output_type": "stream",
          "name": "stderr",
          "text": [
            "\n",
            "100%|██████████| 240/240 [00:03<00:00, 64.09it/s]\n"
          ]
        },
        {
          "output_type": "stream",
          "name": "stdout",
          "text": [
            "[MoviePy] Done.\n",
            "[MoviePy] >>>> Video ready: cropped_videos/Happy/e37a7566-56bc-4ecc-b617-10516ceb10ae.mp4 \n",
            "\n",
            "Video 9 downloaded\n",
            "Collected 6 images from video\n",
            "\n",
            "\n",
            "Download is completed successfully\n",
            "[MoviePy] >>>> Building video cropped_videos/Happy/ceca504d-bab3-4e90-ab99-444c93862227.mp4\n",
            "[MoviePy] Writing audio in ceca504d-bab3-4e90-ab99-444c93862227TEMP_MPY_wvf_snd.mp3\n"
          ]
        },
        {
          "output_type": "stream",
          "name": "stderr",
          "text": [
            "100%|██████████| 199/199 [00:00<00:00, 644.94it/s]"
          ]
        },
        {
          "output_type": "stream",
          "name": "stdout",
          "text": [
            "[MoviePy] Done.\n",
            "[MoviePy] Writing video cropped_videos/Happy/ceca504d-bab3-4e90-ab99-444c93862227.mp4\n"
          ]
        },
        {
          "output_type": "stream",
          "name": "stderr",
          "text": [
            "\n",
            "100%|█████████▉| 270/271 [00:03<00:00, 70.01it/s]\n"
          ]
        },
        {
          "output_type": "stream",
          "name": "stdout",
          "text": [
            "[MoviePy] Done.\n",
            "[MoviePy] >>>> Video ready: cropped_videos/Happy/ceca504d-bab3-4e90-ab99-444c93862227.mp4 \n",
            "\n",
            "Video 10 downloaded\n",
            "Collected 6 images from video\n",
            "\n",
            "\n",
            "Download is completed successfully\n",
            "[MoviePy] >>>> Building video cropped_videos/Happy/fe26fede-e4f5-41a7-afe0-44a97b0fa0ee.mp4\n",
            "[MoviePy] Writing audio in fe26fede-e4f5-41a7-afe0-44a97b0fa0eeTEMP_MPY_wvf_snd.mp3\n"
          ]
        },
        {
          "output_type": "stream",
          "name": "stderr",
          "text": [
            "100%|██████████| 221/221 [00:00<00:00, 780.13it/s]"
          ]
        },
        {
          "output_type": "stream",
          "name": "stdout",
          "text": [
            "[MoviePy] Done.\n",
            "[MoviePy] Writing video cropped_videos/Happy/fe26fede-e4f5-41a7-afe0-44a97b0fa0ee.mp4\n"
          ]
        },
        {
          "output_type": "stream",
          "name": "stderr",
          "text": [
            "\n",
            "100%|█████████▉| 300/301 [00:09<00:00, 30.25it/s]\n"
          ]
        },
        {
          "output_type": "stream",
          "name": "stdout",
          "text": [
            "[MoviePy] Done.\n",
            "[MoviePy] >>>> Video ready: cropped_videos/Happy/fe26fede-e4f5-41a7-afe0-44a97b0fa0ee.mp4 \n",
            "\n",
            "Video 11 downloaded\n",
            "Collected 6 images from video\n",
            "\n",
            "\n",
            "Download is completed successfully\n",
            "[MoviePy] >>>> Building video cropped_videos/Happy/362f61c0-21d4-4eb7-a46c-7ccdddc41b53.mp4\n",
            "[MoviePy] Writing audio in 362f61c0-21d4-4eb7-a46c-7ccdddc41b53TEMP_MPY_wvf_snd.mp3\n"
          ]
        },
        {
          "output_type": "stream",
          "name": "stderr",
          "text": [
            "100%|██████████| 221/221 [00:00<00:00, 648.51it/s]"
          ]
        },
        {
          "output_type": "stream",
          "name": "stdout",
          "text": [
            "[MoviePy] Done.\n",
            "[MoviePy] Writing video cropped_videos/Happy/362f61c0-21d4-4eb7-a46c-7ccdddc41b53.mp4\n"
          ]
        },
        {
          "output_type": "stream",
          "name": "stderr",
          "text": [
            "\n",
            "100%|██████████| 240/240 [00:11<00:00, 21.51it/s]\n"
          ]
        },
        {
          "output_type": "stream",
          "name": "stdout",
          "text": [
            "[MoviePy] Done.\n",
            "[MoviePy] >>>> Video ready: cropped_videos/Happy/362f61c0-21d4-4eb7-a46c-7ccdddc41b53.mp4 \n",
            "\n",
            "Video 12 downloaded\n",
            "Collected 6 images from video\n",
            "\n",
            "\n",
            "[MoviePy] >>>> Building video cropped_videos/Happy/291e6ff7-35f3-48e9-9223-4ee869aaa67f.mp4\n",
            "[MoviePy] Writing audio in 291e6ff7-35f3-48e9-9223-4ee869aaa67fTEMP_MPY_wvf_snd.mp3\n"
          ]
        },
        {
          "output_type": "stream",
          "name": "stderr",
          "text": [
            "100%|██████████| 221/221 [00:00<00:00, 625.85it/s]"
          ]
        },
        {
          "output_type": "stream",
          "name": "stdout",
          "text": [
            "[MoviePy] Done.\n",
            "[MoviePy] Writing video cropped_videos/Happy/291e6ff7-35f3-48e9-9223-4ee869aaa67f.mp4\n"
          ]
        },
        {
          "output_type": "stream",
          "name": "stderr",
          "text": [
            "\n",
            "100%|██████████| 240/240 [00:11<00:00, 21.26it/s]\n"
          ]
        },
        {
          "output_type": "stream",
          "name": "stdout",
          "text": [
            "[MoviePy] Done.\n",
            "[MoviePy] >>>> Video ready: cropped_videos/Happy/291e6ff7-35f3-48e9-9223-4ee869aaa67f.mp4 \n",
            "\n",
            "Video 13 downloaded\n",
            "Collected 6 images from video\n",
            "\n",
            "\n",
            "Download is completed successfully\n",
            "[MoviePy] >>>> Building video cropped_videos/Happy/76e0da98-f562-445c-8d15-b61597d78fee.mp4\n",
            "[MoviePy] Writing audio in 76e0da98-f562-445c-8d15-b61597d78feeTEMP_MPY_wvf_snd.mp3\n"
          ]
        },
        {
          "output_type": "stream",
          "name": "stderr",
          "text": [
            "100%|██████████| 221/221 [00:00<00:00, 460.36it/s]"
          ]
        },
        {
          "output_type": "stream",
          "name": "stdout",
          "text": [
            "[MoviePy] Done.\n",
            "[MoviePy] Writing video cropped_videos/Happy/76e0da98-f562-445c-8d15-b61597d78fee.mp4\n"
          ]
        },
        {
          "output_type": "stream",
          "name": "stderr",
          "text": [
            "\n",
            "100%|█████████▉| 240/241 [00:11<00:00, 20.65it/s]\n"
          ]
        },
        {
          "output_type": "stream",
          "name": "stdout",
          "text": [
            "[MoviePy] Done.\n",
            "[MoviePy] >>>> Video ready: cropped_videos/Happy/76e0da98-f562-445c-8d15-b61597d78fee.mp4 \n",
            "\n",
            "Video 14 downloaded\n",
            "Collected 6 images from video\n",
            "\n",
            "\n",
            "[MoviePy] >>>> Building video cropped_videos/Happy/67b945ce-d651-4643-8e3a-d7d61828ddd3.mp4\n",
            "[MoviePy] Writing audio in 67b945ce-d651-4643-8e3a-d7d61828ddd3TEMP_MPY_wvf_snd.mp3\n"
          ]
        },
        {
          "output_type": "stream",
          "name": "stderr",
          "text": [
            "100%|██████████| 221/221 [00:00<00:00, 371.16it/s]"
          ]
        },
        {
          "output_type": "stream",
          "name": "stdout",
          "text": [
            "[MoviePy] Done.\n",
            "[MoviePy] Writing video cropped_videos/Happy/67b945ce-d651-4643-8e3a-d7d61828ddd3.mp4\n"
          ]
        },
        {
          "output_type": "stream",
          "name": "stderr",
          "text": [
            "\n",
            "100%|█████████▉| 240/241 [00:10<00:00, 22.13it/s]\n"
          ]
        },
        {
          "output_type": "stream",
          "name": "stdout",
          "text": [
            "[MoviePy] Done.\n",
            "[MoviePy] >>>> Video ready: cropped_videos/Happy/67b945ce-d651-4643-8e3a-d7d61828ddd3.mp4 \n",
            "\n",
            "Video 15 downloaded\n",
            "Collected 6 images from video\n",
            "\n",
            "\n",
            "[MoviePy] >>>> Building video cropped_videos/Happy/6b6075b3-cdea-44c9-8a7f-2d505b8c52c2.mp4\n",
            "[MoviePy] Writing audio in 6b6075b3-cdea-44c9-8a7f-2d505b8c52c2TEMP_MPY_wvf_snd.mp3\n"
          ]
        },
        {
          "output_type": "stream",
          "name": "stderr",
          "text": [
            "100%|██████████| 221/221 [00:00<00:00, 426.44it/s]"
          ]
        },
        {
          "output_type": "stream",
          "name": "stdout",
          "text": [
            "[MoviePy] Done.\n",
            "[MoviePy] Writing video cropped_videos/Happy/6b6075b3-cdea-44c9-8a7f-2d505b8c52c2.mp4\n"
          ]
        },
        {
          "output_type": "stream",
          "name": "stderr",
          "text": [
            "\n",
            "100%|█████████▉| 240/241 [00:10<00:00, 22.95it/s]\n"
          ]
        },
        {
          "output_type": "stream",
          "name": "stdout",
          "text": [
            "[MoviePy] Done.\n",
            "[MoviePy] >>>> Video ready: cropped_videos/Happy/6b6075b3-cdea-44c9-8a7f-2d505b8c52c2.mp4 \n",
            "\n",
            "Video 16 downloaded\n",
            "Collected 6 images from video\n",
            "\n",
            "\n",
            "[MoviePy] >>>> Building video cropped_videos/Happy/e40df6a6-c6b0-48a5-afb1-eb755e00643e.mp4\n",
            "[MoviePy] Writing audio in e40df6a6-c6b0-48a5-afb1-eb755e00643eTEMP_MPY_wvf_snd.mp3\n"
          ]
        },
        {
          "output_type": "stream",
          "name": "stderr",
          "text": [
            "100%|██████████| 221/221 [00:00<00:00, 437.24it/s]"
          ]
        },
        {
          "output_type": "stream",
          "name": "stdout",
          "text": [
            "[MoviePy] Done.\n",
            "[MoviePy] Writing video cropped_videos/Happy/e40df6a6-c6b0-48a5-afb1-eb755e00643e.mp4\n"
          ]
        },
        {
          "output_type": "stream",
          "name": "stderr",
          "text": [
            "\n",
            "100%|█████████▉| 240/241 [00:09<00:00, 25.41it/s]\n"
          ]
        },
        {
          "output_type": "stream",
          "name": "stdout",
          "text": [
            "[MoviePy] Done.\n",
            "[MoviePy] >>>> Video ready: cropped_videos/Happy/e40df6a6-c6b0-48a5-afb1-eb755e00643e.mp4 \n",
            "\n",
            "Video 17 downloaded\n",
            "Collected 6 images from video\n",
            "\n",
            "\n",
            "Download is completed successfully\n",
            "[MoviePy] >>>> Building video cropped_videos/Happy/586b4950-a201-4211-8522-774926b54980.mp4\n",
            "[MoviePy] Writing audio in 586b4950-a201-4211-8522-774926b54980TEMP_MPY_wvf_snd.mp3\n"
          ]
        },
        {
          "output_type": "stream",
          "name": "stderr",
          "text": [
            "100%|██████████| 221/221 [00:00<00:00, 1020.56it/s]"
          ]
        },
        {
          "output_type": "stream",
          "name": "stdout",
          "text": [
            "[MoviePy] Done.\n",
            "[MoviePy] Writing video cropped_videos/Happy/586b4950-a201-4211-8522-774926b54980.mp4\n"
          ]
        },
        {
          "output_type": "stream",
          "name": "stderr",
          "text": [
            "\n",
            "100%|█████████▉| 300/301 [00:13<00:00, 22.71it/s]\n"
          ]
        },
        {
          "output_type": "stream",
          "name": "stdout",
          "text": [
            "[MoviePy] Done.\n",
            "[MoviePy] >>>> Video ready: cropped_videos/Happy/586b4950-a201-4211-8522-774926b54980.mp4 \n",
            "\n",
            "Video 18 downloaded\n",
            "Collected 6 images from video\n",
            "\n",
            "\n",
            "[MoviePy] >>>> Building video cropped_videos/Happy/56952977-c8da-494f-8d1f-6c0732892465.mp4\n",
            "[MoviePy] Writing audio in 56952977-c8da-494f-8d1f-6c0732892465TEMP_MPY_wvf_snd.mp3\n"
          ]
        },
        {
          "output_type": "stream",
          "name": "stderr",
          "text": [
            "100%|██████████| 221/221 [00:00<00:00, 974.36it/s] "
          ]
        },
        {
          "output_type": "stream",
          "name": "stdout",
          "text": [
            "[MoviePy] Done.\n",
            "[MoviePy] Writing video cropped_videos/Happy/56952977-c8da-494f-8d1f-6c0732892465.mp4\n"
          ]
        },
        {
          "output_type": "stream",
          "name": "stderr",
          "text": [
            "\n",
            "100%|█████████▉| 300/301 [00:13<00:00, 22.01it/s]\n"
          ]
        },
        {
          "output_type": "stream",
          "name": "stdout",
          "text": [
            "[MoviePy] Done.\n",
            "[MoviePy] >>>> Video ready: cropped_videos/Happy/56952977-c8da-494f-8d1f-6c0732892465.mp4 \n",
            "\n",
            "Video 19 downloaded\n",
            "Collected 6 images from video\n",
            "\n",
            "\n",
            "[MoviePy] >>>> Building video cropped_videos/Happy/4b6796a8-5f77-4c91-9efe-0e2edde09926.mp4\n",
            "[MoviePy] Writing audio in 4b6796a8-5f77-4c91-9efe-0e2edde09926TEMP_MPY_wvf_snd.mp3\n"
          ]
        },
        {
          "output_type": "stream",
          "name": "stderr",
          "text": [
            "100%|██████████| 221/221 [00:00<00:00, 473.88it/s]"
          ]
        },
        {
          "output_type": "stream",
          "name": "stdout",
          "text": [
            "[MoviePy] Done.\n",
            "[MoviePy] Writing video cropped_videos/Happy/4b6796a8-5f77-4c91-9efe-0e2edde09926.mp4\n"
          ]
        },
        {
          "output_type": "stream",
          "name": "stderr",
          "text": [
            "\n",
            "100%|█████████▉| 240/241 [00:07<00:00, 30.18it/s]\n"
          ]
        },
        {
          "output_type": "stream",
          "name": "stdout",
          "text": [
            "[MoviePy] Done.\n",
            "[MoviePy] >>>> Video ready: cropped_videos/Happy/4b6796a8-5f77-4c91-9efe-0e2edde09926.mp4 \n",
            "\n",
            "Video 20 downloaded\n",
            "Collected 6 images from video\n",
            "\n",
            "\n",
            "[MoviePy] >>>> Building video cropped_videos/Happy/707044f9-a428-4590-b3cb-5cce3084c97d.mp4\n",
            "[MoviePy] Writing audio in 707044f9-a428-4590-b3cb-5cce3084c97dTEMP_MPY_wvf_snd.mp3\n"
          ]
        },
        {
          "output_type": "stream",
          "name": "stderr",
          "text": [
            "100%|██████████| 221/221 [00:00<00:00, 437.66it/s]"
          ]
        },
        {
          "output_type": "stream",
          "name": "stdout",
          "text": [
            "[MoviePy] Done.\n",
            "[MoviePy] Writing video cropped_videos/Happy/707044f9-a428-4590-b3cb-5cce3084c97d.mp4\n"
          ]
        },
        {
          "output_type": "stream",
          "name": "stderr",
          "text": [
            "\n",
            "100%|█████████▉| 240/241 [00:08<00:00, 29.46it/s]\n"
          ]
        },
        {
          "output_type": "stream",
          "name": "stdout",
          "text": [
            "[MoviePy] Done.\n",
            "[MoviePy] >>>> Video ready: cropped_videos/Happy/707044f9-a428-4590-b3cb-5cce3084c97d.mp4 \n",
            "\n",
            "Video 21 downloaded\n",
            "Collected 6 images from video\n",
            "\n",
            "\n",
            "Download is completed successfully\n",
            "[MoviePy] >>>> Building video cropped_videos/Happy/e71cb528-f1cc-42ee-b8e9-e9213a6e757c.mp4\n",
            "[MoviePy] Writing audio in e71cb528-f1cc-42ee-b8e9-e9213a6e757cTEMP_MPY_wvf_snd.mp3\n"
          ]
        },
        {
          "output_type": "stream",
          "name": "stderr",
          "text": [
            "100%|██████████| 199/199 [00:00<00:00, 819.52it/s]"
          ]
        },
        {
          "output_type": "stream",
          "name": "stdout",
          "text": [
            "[MoviePy] Done.\n",
            "[MoviePy] Writing video cropped_videos/Happy/e71cb528-f1cc-42ee-b8e9-e9213a6e757c.mp4\n"
          ]
        },
        {
          "output_type": "stream",
          "name": "stderr",
          "text": [
            "\n",
            "100%|█████████▉| 270/271 [00:03<00:00, 72.42it/s]\n"
          ]
        },
        {
          "output_type": "stream",
          "name": "stdout",
          "text": [
            "[MoviePy] Done.\n",
            "[MoviePy] >>>> Video ready: cropped_videos/Happy/e71cb528-f1cc-42ee-b8e9-e9213a6e757c.mp4 \n",
            "\n",
            "Video 22 downloaded\n",
            "Collected 6 images from video\n",
            "\n",
            "\n",
            "[MoviePy] >>>> Building video cropped_videos/Happy/32dfa9a1-276a-4421-a820-3ed0715bdfab.mp4\n",
            "[MoviePy] Writing audio in 32dfa9a1-276a-4421-a820-3ed0715bdfabTEMP_MPY_wvf_snd.mp3\n"
          ]
        },
        {
          "output_type": "stream",
          "name": "stderr",
          "text": [
            "100%|██████████| 221/221 [00:00<00:00, 425.41it/s]\n"
          ]
        },
        {
          "output_type": "stream",
          "name": "stdout",
          "text": [
            "[MoviePy] Done.\n",
            "[MoviePy] Writing video cropped_videos/Happy/32dfa9a1-276a-4421-a820-3ed0715bdfab.mp4\n"
          ]
        },
        {
          "output_type": "stream",
          "name": "stderr",
          "text": [
            "100%|█████████▉| 240/241 [00:10<00:00, 23.16it/s]\n"
          ]
        },
        {
          "output_type": "stream",
          "name": "stdout",
          "text": [
            "[MoviePy] Done.\n",
            "[MoviePy] >>>> Video ready: cropped_videos/Happy/32dfa9a1-276a-4421-a820-3ed0715bdfab.mp4 \n",
            "\n",
            "Video 23 downloaded\n",
            "Collected 6 images from video\n",
            "\n",
            "\n",
            "[MoviePy] >>>> Building video cropped_videos/Happy/ddf2c794-d049-4f8c-985c-f9fe307a2339.mp4\n",
            "[MoviePy] Writing audio in ddf2c794-d049-4f8c-985c-f9fe307a2339TEMP_MPY_wvf_snd.mp3\n"
          ]
        },
        {
          "output_type": "stream",
          "name": "stderr",
          "text": [
            "100%|██████████| 221/221 [00:00<00:00, 507.92it/s]"
          ]
        },
        {
          "output_type": "stream",
          "name": "stdout",
          "text": [
            "[MoviePy] Done.\n",
            "[MoviePy] Writing video cropped_videos/Happy/ddf2c794-d049-4f8c-985c-f9fe307a2339.mp4\n"
          ]
        },
        {
          "output_type": "stream",
          "name": "stderr",
          "text": [
            "\n",
            "100%|█████████▉| 240/241 [00:10<00:00, 23.29it/s]\n"
          ]
        },
        {
          "output_type": "stream",
          "name": "stdout",
          "text": [
            "[MoviePy] Done.\n",
            "[MoviePy] >>>> Video ready: cropped_videos/Happy/ddf2c794-d049-4f8c-985c-f9fe307a2339.mp4 \n",
            "\n",
            "Video 24 downloaded\n",
            "Collected 6 images from video\n",
            "\n",
            "\n",
            "[MoviePy] >>>> Building video cropped_videos/Happy/f0889cf5-b35a-49d3-8c1d-40ef882d1ee7.mp4\n",
            "[MoviePy] Writing audio in f0889cf5-b35a-49d3-8c1d-40ef882d1ee7TEMP_MPY_wvf_snd.mp3\n"
          ]
        },
        {
          "output_type": "stream",
          "name": "stderr",
          "text": [
            "100%|██████████| 221/221 [00:00<00:00, 315.37it/s]"
          ]
        },
        {
          "output_type": "stream",
          "name": "stdout",
          "text": [
            "[MoviePy] Done.\n",
            "[MoviePy] Writing video cropped_videos/Happy/f0889cf5-b35a-49d3-8c1d-40ef882d1ee7.mp4\n"
          ]
        },
        {
          "output_type": "stream",
          "name": "stderr",
          "text": [
            "\n",
            "100%|█████████▉| 240/241 [00:09<00:00, 24.96it/s]\n"
          ]
        },
        {
          "output_type": "stream",
          "name": "stdout",
          "text": [
            "[MoviePy] Done.\n",
            "[MoviePy] >>>> Video ready: cropped_videos/Happy/f0889cf5-b35a-49d3-8c1d-40ef882d1ee7.mp4 \n",
            "\n",
            "Video 25 downloaded\n",
            "Collected 6 images from video\n",
            "\n",
            "\n",
            "[MoviePy] >>>> Building video cropped_videos/Happy/9ffb3546-7354-4ad2-8a8c-4627ddd339cb.mp4\n",
            "[MoviePy] Writing audio in 9ffb3546-7354-4ad2-8a8c-4627ddd339cbTEMP_MPY_wvf_snd.mp3\n"
          ]
        },
        {
          "output_type": "stream",
          "name": "stderr",
          "text": [
            "100%|██████████| 221/221 [00:00<00:00, 420.55it/s]\n"
          ]
        },
        {
          "output_type": "stream",
          "name": "stdout",
          "text": [
            "[MoviePy] Done.\n",
            "[MoviePy] Writing video cropped_videos/Happy/9ffb3546-7354-4ad2-8a8c-4627ddd339cb.mp4\n"
          ]
        },
        {
          "output_type": "stream",
          "name": "stderr",
          "text": [
            "100%|█████████▉| 240/241 [00:10<00:00, 23.26it/s]\n"
          ]
        },
        {
          "output_type": "stream",
          "name": "stdout",
          "text": [
            "[MoviePy] Done.\n",
            "[MoviePy] >>>> Video ready: cropped_videos/Happy/9ffb3546-7354-4ad2-8a8c-4627ddd339cb.mp4 \n",
            "\n",
            "Video 26 downloaded\n",
            "Collected 6 images from video\n",
            "\n",
            "\n",
            "[MoviePy] >>>> Building video cropped_videos/Happy/1015e916-3fae-41d6-b34b-ef0155849a4c.mp4\n",
            "[MoviePy] Writing audio in 1015e916-3fae-41d6-b34b-ef0155849a4cTEMP_MPY_wvf_snd.mp3\n"
          ]
        },
        {
          "output_type": "stream",
          "name": "stderr",
          "text": [
            "100%|██████████| 221/221 [00:00<00:00, 470.25it/s]"
          ]
        },
        {
          "output_type": "stream",
          "name": "stdout",
          "text": [
            "[MoviePy] Done.\n",
            "[MoviePy] Writing video cropped_videos/Happy/1015e916-3fae-41d6-b34b-ef0155849a4c.mp4\n"
          ]
        },
        {
          "output_type": "stream",
          "name": "stderr",
          "text": [
            "\n",
            "100%|█████████▉| 240/241 [00:11<00:00, 21.23it/s]\n"
          ]
        },
        {
          "output_type": "stream",
          "name": "stdout",
          "text": [
            "[MoviePy] Done.\n",
            "[MoviePy] >>>> Video ready: cropped_videos/Happy/1015e916-3fae-41d6-b34b-ef0155849a4c.mp4 \n",
            "\n",
            "Video 27 downloaded\n",
            "Collected 6 images from video\n",
            "\n",
            "\n",
            "[MoviePy] >>>> Building video cropped_videos/Happy/80a22577-eb14-4b72-829b-86eff7b1a268.mp4\n",
            "[MoviePy] Writing audio in 80a22577-eb14-4b72-829b-86eff7b1a268TEMP_MPY_wvf_snd.mp3\n"
          ]
        },
        {
          "output_type": "stream",
          "name": "stderr",
          "text": [
            "100%|██████████| 221/221 [00:00<00:00, 401.34it/s]"
          ]
        },
        {
          "output_type": "stream",
          "name": "stdout",
          "text": [
            "[MoviePy] Done.\n",
            "[MoviePy] Writing video cropped_videos/Happy/80a22577-eb14-4b72-829b-86eff7b1a268.mp4\n"
          ]
        },
        {
          "output_type": "stream",
          "name": "stderr",
          "text": [
            "\n",
            "100%|█████████▉| 240/241 [00:12<00:00, 19.36it/s]\n"
          ]
        },
        {
          "output_type": "stream",
          "name": "stdout",
          "text": [
            "[MoviePy] Done.\n",
            "[MoviePy] >>>> Video ready: cropped_videos/Happy/80a22577-eb14-4b72-829b-86eff7b1a268.mp4 \n",
            "\n",
            "Video 28 downloaded\n",
            "Collected 6 images from video\n",
            "\n",
            "\n",
            "[MoviePy] >>>> Building video cropped_videos/Happy/70fe5200-b52e-4a9d-91f3-8d18393da7ac.mp4\n",
            "[MoviePy] Writing audio in 70fe5200-b52e-4a9d-91f3-8d18393da7acTEMP_MPY_wvf_snd.mp3\n"
          ]
        },
        {
          "output_type": "stream",
          "name": "stderr",
          "text": [
            "100%|██████████| 221/221 [00:00<00:00, 469.33it/s]"
          ]
        },
        {
          "output_type": "stream",
          "name": "stdout",
          "text": [
            "[MoviePy] Done.\n",
            "[MoviePy] Writing video cropped_videos/Happy/70fe5200-b52e-4a9d-91f3-8d18393da7ac.mp4\n"
          ]
        },
        {
          "output_type": "stream",
          "name": "stderr",
          "text": [
            "\n",
            "100%|█████████▉| 240/241 [00:10<00:00, 23.63it/s]\n"
          ]
        },
        {
          "output_type": "stream",
          "name": "stdout",
          "text": [
            "[MoviePy] Done.\n",
            "[MoviePy] >>>> Video ready: cropped_videos/Happy/70fe5200-b52e-4a9d-91f3-8d18393da7ac.mp4 \n",
            "\n",
            "Video 29 downloaded\n",
            "Collected 6 images from video\n",
            "\n",
            "\n",
            "[MoviePy] >>>> Building video cropped_videos/Happy/e3d587d6-bf1a-48b5-8c9f-ff46d1875311.mp4\n",
            "[MoviePy] Writing audio in e3d587d6-bf1a-48b5-8c9f-ff46d1875311TEMP_MPY_wvf_snd.mp3\n"
          ]
        },
        {
          "output_type": "stream",
          "name": "stderr",
          "text": [
            "100%|██████████| 221/221 [00:00<00:00, 486.56it/s]"
          ]
        },
        {
          "output_type": "stream",
          "name": "stdout",
          "text": [
            "[MoviePy] Done.\n",
            "[MoviePy] Writing video cropped_videos/Happy/e3d587d6-bf1a-48b5-8c9f-ff46d1875311.mp4\n"
          ]
        },
        {
          "output_type": "stream",
          "name": "stderr",
          "text": [
            "\n",
            "100%|█████████▉| 240/241 [00:09<00:00, 26.16it/s]\n"
          ]
        },
        {
          "output_type": "stream",
          "name": "stdout",
          "text": [
            "[MoviePy] Done.\n",
            "[MoviePy] >>>> Video ready: cropped_videos/Happy/e3d587d6-bf1a-48b5-8c9f-ff46d1875311.mp4 \n",
            "\n",
            "Video 30 downloaded\n",
            "Collected 6 images from video\n",
            "\n",
            "\n",
            "[MoviePy] >>>> Building video cropped_videos/Happy/b73b16a7-e870-4ba8-a91a-2d50f76cb3bf.mp4\n",
            "[MoviePy] Writing audio in b73b16a7-e870-4ba8-a91a-2d50f76cb3bfTEMP_MPY_wvf_snd.mp3\n"
          ]
        },
        {
          "output_type": "stream",
          "name": "stderr",
          "text": [
            "100%|██████████| 221/221 [00:00<00:00, 472.57it/s]"
          ]
        },
        {
          "output_type": "stream",
          "name": "stdout",
          "text": [
            "[MoviePy] Done.\n",
            "[MoviePy] Writing video cropped_videos/Happy/b73b16a7-e870-4ba8-a91a-2d50f76cb3bf.mp4\n"
          ]
        },
        {
          "output_type": "stream",
          "name": "stderr",
          "text": [
            "\n",
            "100%|█████████▉| 240/241 [00:10<00:00, 22.39it/s]\n"
          ]
        },
        {
          "output_type": "stream",
          "name": "stdout",
          "text": [
            "[MoviePy] Done.\n",
            "[MoviePy] >>>> Video ready: cropped_videos/Happy/b73b16a7-e870-4ba8-a91a-2d50f76cb3bf.mp4 \n",
            "\n",
            "Video 31 downloaded\n",
            "Collected 6 images from video\n",
            "\n",
            "\n",
            "[MoviePy] >>>> Building video cropped_videos/Happy/b5040ffb-798f-4158-94bb-cbf6dfa3da39.mp4\n",
            "[MoviePy] Writing audio in b5040ffb-798f-4158-94bb-cbf6dfa3da39TEMP_MPY_wvf_snd.mp3\n"
          ]
        },
        {
          "output_type": "stream",
          "name": "stderr",
          "text": [
            "100%|██████████| 177/177 [00:00<00:00, 409.81it/s]\n"
          ]
        },
        {
          "output_type": "stream",
          "name": "stdout",
          "text": [
            "[MoviePy] Done.\n",
            "[MoviePy] Writing video cropped_videos/Happy/b5040ffb-798f-4158-94bb-cbf6dfa3da39.mp4\n"
          ]
        },
        {
          "output_type": "stream",
          "name": "stderr",
          "text": [
            " 99%|█████████▉| 192/193 [00:06<00:00, 28.60it/s]\n"
          ]
        },
        {
          "output_type": "stream",
          "name": "stdout",
          "text": [
            "[MoviePy] Done.\n",
            "[MoviePy] >>>> Video ready: cropped_videos/Happy/b5040ffb-798f-4158-94bb-cbf6dfa3da39.mp4 \n",
            "\n",
            "Video 32 downloaded\n",
            "Collected 6 images from video\n",
            "\n",
            "\n",
            "Download is completed successfully\n",
            "[MoviePy] >>>> Building video cropped_videos/Happy/49ce1f20-8642-4b03-aca5-b7854a6b9357.mp4\n",
            "[MoviePy] Writing audio in 49ce1f20-8642-4b03-aca5-b7854a6b9357TEMP_MPY_wvf_snd.mp3\n"
          ]
        },
        {
          "output_type": "stream",
          "name": "stderr",
          "text": [
            "100%|██████████| 221/221 [00:00<00:00, 387.34it/s]"
          ]
        },
        {
          "output_type": "stream",
          "name": "stdout",
          "text": [
            "[MoviePy] Done.\n",
            "[MoviePy] Writing video cropped_videos/Happy/49ce1f20-8642-4b03-aca5-b7854a6b9357.mp4\n"
          ]
        },
        {
          "output_type": "stream",
          "name": "stderr",
          "text": [
            "\n",
            "100%|█████████▉| 300/301 [00:13<00:00, 22.87it/s]\n"
          ]
        },
        {
          "output_type": "stream",
          "name": "stdout",
          "text": [
            "[MoviePy] Done.\n",
            "[MoviePy] >>>> Video ready: cropped_videos/Happy/49ce1f20-8642-4b03-aca5-b7854a6b9357.mp4 \n",
            "\n",
            "Video 33 downloaded\n",
            "Collected 6 images from video\n",
            "\n",
            "\n",
            "Download is completed successfully\n",
            "[MoviePy] >>>> Building video cropped_videos/Happy/b2e6bdcd-940c-4353-ba91-06f6a1cdbac3.mp4\n",
            "[MoviePy] Writing audio in b2e6bdcd-940c-4353-ba91-06f6a1cdbac3TEMP_MPY_wvf_snd.mp3\n"
          ]
        },
        {
          "output_type": "stream",
          "name": "stderr",
          "text": [
            "100%|██████████| 221/221 [00:00<00:00, 514.25it/s]"
          ]
        },
        {
          "output_type": "stream",
          "name": "stdout",
          "text": [
            "[MoviePy] Done.\n",
            "[MoviePy] Writing video cropped_videos/Happy/b2e6bdcd-940c-4353-ba91-06f6a1cdbac3.mp4\n"
          ]
        },
        {
          "output_type": "stream",
          "name": "stderr",
          "text": [
            "\n",
            "100%|██████████| 240/240 [00:08<00:00, 27.56it/s]\n"
          ]
        },
        {
          "output_type": "stream",
          "name": "stdout",
          "text": [
            "[MoviePy] Done.\n",
            "[MoviePy] >>>> Video ready: cropped_videos/Happy/b2e6bdcd-940c-4353-ba91-06f6a1cdbac3.mp4 \n",
            "\n",
            "Video 34 downloaded\n",
            "Collected 6 images from video\n",
            "\n",
            "\n",
            "[MoviePy] >>>> Building video cropped_videos/Happy/eea51eda-226a-445e-b9d0-dd6bca73bbab.mp4\n",
            "[MoviePy] Writing audio in eea51eda-226a-445e-b9d0-dd6bca73bbabTEMP_MPY_wvf_snd.mp3\n"
          ]
        },
        {
          "output_type": "stream",
          "name": "stderr",
          "text": [
            "100%|██████████| 221/221 [00:00<00:00, 508.84it/s]"
          ]
        },
        {
          "output_type": "stream",
          "name": "stdout",
          "text": [
            "[MoviePy] Done.\n",
            "[MoviePy] Writing video cropped_videos/Happy/eea51eda-226a-445e-b9d0-dd6bca73bbab.mp4\n"
          ]
        },
        {
          "output_type": "stream",
          "name": "stderr",
          "text": [
            "\n",
            "100%|██████████| 240/240 [00:09<00:00, 26.40it/s]\n"
          ]
        },
        {
          "output_type": "stream",
          "name": "stdout",
          "text": [
            "[MoviePy] Done.\n",
            "[MoviePy] >>>> Video ready: cropped_videos/Happy/eea51eda-226a-445e-b9d0-dd6bca73bbab.mp4 \n",
            "\n",
            "Video 35 downloaded\n",
            "Collected 6 images from video\n",
            "\n",
            "\n",
            "[MoviePy] >>>> Building video cropped_videos/Happy/d6b27971-c6f2-451f-b23d-a1c9684143a1.mp4\n",
            "[MoviePy] Writing audio in d6b27971-c6f2-451f-b23d-a1c9684143a1TEMP_MPY_wvf_snd.mp3\n"
          ]
        },
        {
          "output_type": "stream",
          "name": "stderr",
          "text": [
            "100%|██████████| 221/221 [00:00<00:00, 468.18it/s]"
          ]
        },
        {
          "output_type": "stream",
          "name": "stdout",
          "text": [
            "[MoviePy] Done.\n",
            "[MoviePy] Writing video cropped_videos/Happy/d6b27971-c6f2-451f-b23d-a1c9684143a1.mp4\n"
          ]
        },
        {
          "output_type": "stream",
          "name": "stderr",
          "text": [
            "\n",
            "100%|██████████| 240/240 [00:08<00:00, 26.85it/s]\n"
          ]
        },
        {
          "output_type": "stream",
          "name": "stdout",
          "text": [
            "[MoviePy] Done.\n",
            "[MoviePy] >>>> Video ready: cropped_videos/Happy/d6b27971-c6f2-451f-b23d-a1c9684143a1.mp4 \n",
            "\n",
            "Video 36 downloaded\n",
            "Collected 6 images from video\n",
            "\n",
            "\n",
            "[MoviePy] >>>> Building video cropped_videos/Happy/258de671-2a02-4e91-9bac-442eb7d5cf7b.mp4\n",
            "[MoviePy] Writing audio in 258de671-2a02-4e91-9bac-442eb7d5cf7bTEMP_MPY_wvf_snd.mp3\n"
          ]
        },
        {
          "output_type": "stream",
          "name": "stderr",
          "text": [
            "100%|██████████| 221/221 [00:00<00:00, 470.11it/s]"
          ]
        },
        {
          "output_type": "stream",
          "name": "stdout",
          "text": [
            "[MoviePy] Done.\n",
            "[MoviePy] Writing video cropped_videos/Happy/258de671-2a02-4e91-9bac-442eb7d5cf7b.mp4\n"
          ]
        },
        {
          "output_type": "stream",
          "name": "stderr",
          "text": [
            "\n",
            "100%|██████████| 240/240 [00:09<00:00, 26.25it/s]\n"
          ]
        },
        {
          "output_type": "stream",
          "name": "stdout",
          "text": [
            "[MoviePy] Done.\n",
            "[MoviePy] >>>> Video ready: cropped_videos/Happy/258de671-2a02-4e91-9bac-442eb7d5cf7b.mp4 \n",
            "\n",
            "Video 37 downloaded\n",
            "Collected 6 images from video\n",
            "\n",
            "\n",
            "[MoviePy] >>>> Building video cropped_videos/Happy/7c428da2-349a-4f2c-afac-affb668460d4.mp4\n",
            "[MoviePy] Writing audio in 7c428da2-349a-4f2c-afac-affb668460d4TEMP_MPY_wvf_snd.mp3\n"
          ]
        },
        {
          "output_type": "stream",
          "name": "stderr",
          "text": [
            "100%|██████████| 221/221 [00:00<00:00, 480.56it/s]"
          ]
        },
        {
          "output_type": "stream",
          "name": "stdout",
          "text": [
            "[MoviePy] Done.\n",
            "[MoviePy] Writing video cropped_videos/Happy/7c428da2-349a-4f2c-afac-affb668460d4.mp4\n"
          ]
        },
        {
          "output_type": "stream",
          "name": "stderr",
          "text": [
            "\n",
            "100%|██████████| 240/240 [00:08<00:00, 29.90it/s]\n"
          ]
        },
        {
          "output_type": "stream",
          "name": "stdout",
          "text": [
            "[MoviePy] Done.\n",
            "[MoviePy] >>>> Video ready: cropped_videos/Happy/7c428da2-349a-4f2c-afac-affb668460d4.mp4 \n",
            "\n",
            "Video 38 downloaded\n",
            "Collected 6 images from video\n",
            "\n",
            "\n",
            "[MoviePy] >>>> Building video cropped_videos/Happy/80121826-9c29-4e34-ab70-d63b715b9e4e.mp4\n",
            "[MoviePy] Writing audio in 80121826-9c29-4e34-ab70-d63b715b9e4eTEMP_MPY_wvf_snd.mp3\n"
          ]
        },
        {
          "output_type": "stream",
          "name": "stderr",
          "text": [
            "100%|██████████| 133/133 [00:00<00:00, 482.89it/s]"
          ]
        },
        {
          "output_type": "stream",
          "name": "stdout",
          "text": [
            "[MoviePy] Done.\n",
            "[MoviePy] Writing video cropped_videos/Happy/80121826-9c29-4e34-ab70-d63b715b9e4e.mp4\n"
          ]
        },
        {
          "output_type": "stream",
          "name": "stderr",
          "text": [
            "\n",
            "100%|██████████| 144/144 [00:04<00:00, 29.88it/s]\n"
          ]
        },
        {
          "output_type": "stream",
          "name": "stdout",
          "text": [
            "[MoviePy] Done.\n",
            "[MoviePy] >>>> Video ready: cropped_videos/Happy/80121826-9c29-4e34-ab70-d63b715b9e4e.mp4 \n",
            "\n",
            "Video 39 downloaded\n",
            "Collected 6 images from video\n",
            "\n",
            "\n",
            "[MoviePy] >>>> Building video cropped_videos/Happy/6e286415-c932-4357-9162-783127b3042d.mp4\n",
            "[MoviePy] Writing audio in 6e286415-c932-4357-9162-783127b3042dTEMP_MPY_wvf_snd.mp3\n"
          ]
        },
        {
          "output_type": "stream",
          "name": "stderr",
          "text": [
            "100%|██████████| 221/221 [00:00<00:00, 484.07it/s]"
          ]
        },
        {
          "output_type": "stream",
          "name": "stdout",
          "text": [
            "[MoviePy] Done.\n",
            "[MoviePy] Writing video cropped_videos/Happy/6e286415-c932-4357-9162-783127b3042d.mp4\n"
          ]
        },
        {
          "output_type": "stream",
          "name": "stderr",
          "text": [
            "\n",
            "100%|██████████| 240/240 [00:09<00:00, 25.70it/s]\n"
          ]
        },
        {
          "output_type": "stream",
          "name": "stdout",
          "text": [
            "[MoviePy] Done.\n",
            "[MoviePy] >>>> Video ready: cropped_videos/Happy/6e286415-c932-4357-9162-783127b3042d.mp4 \n",
            "\n",
            "Video 40 downloaded\n",
            "Collected 6 images from video\n",
            "\n",
            "\n",
            "[MoviePy] >>>> Building video cropped_videos/Happy/20ac13ef-821f-4dcd-8407-590c1c0dd46c.mp4\n",
            "[MoviePy] Writing audio in 20ac13ef-821f-4dcd-8407-590c1c0dd46cTEMP_MPY_wvf_snd.mp3\n"
          ]
        },
        {
          "output_type": "stream",
          "name": "stderr",
          "text": [
            "100%|██████████| 221/221 [00:00<00:00, 503.36it/s]"
          ]
        },
        {
          "output_type": "stream",
          "name": "stdout",
          "text": [
            "[MoviePy] Done.\n",
            "[MoviePy] Writing video cropped_videos/Happy/20ac13ef-821f-4dcd-8407-590c1c0dd46c.mp4\n"
          ]
        },
        {
          "output_type": "stream",
          "name": "stderr",
          "text": [
            "\n",
            "100%|██████████| 240/240 [00:09<00:00, 25.65it/s]\n"
          ]
        },
        {
          "output_type": "stream",
          "name": "stdout",
          "text": [
            "[MoviePy] Done.\n",
            "[MoviePy] >>>> Video ready: cropped_videos/Happy/20ac13ef-821f-4dcd-8407-590c1c0dd46c.mp4 \n",
            "\n",
            "Video 41 downloaded\n",
            "Collected 6 images from video\n",
            "\n",
            "\n",
            "[MoviePy] >>>> Building video cropped_videos/Happy/a6d9eb22-ecd4-44e1-9fbd-bdfd1f34a72a.mp4\n",
            "[MoviePy] Writing audio in a6d9eb22-ecd4-44e1-9fbd-bdfd1f34a72aTEMP_MPY_wvf_snd.mp3\n"
          ]
        },
        {
          "output_type": "stream",
          "name": "stderr",
          "text": [
            "100%|██████████| 221/221 [00:00<00:00, 350.90it/s]\n"
          ]
        },
        {
          "output_type": "stream",
          "name": "stdout",
          "text": [
            "[MoviePy] Done.\n",
            "[MoviePy] Writing video cropped_videos/Happy/a6d9eb22-ecd4-44e1-9fbd-bdfd1f34a72a.mp4\n"
          ]
        },
        {
          "output_type": "stream",
          "name": "stderr",
          "text": [
            "100%|██████████| 240/240 [00:09<00:00, 26.32it/s]\n"
          ]
        },
        {
          "output_type": "stream",
          "name": "stdout",
          "text": [
            "[MoviePy] Done.\n",
            "[MoviePy] >>>> Video ready: cropped_videos/Happy/a6d9eb22-ecd4-44e1-9fbd-bdfd1f34a72a.mp4 \n",
            "\n",
            "Video 42 downloaded\n",
            "Collected 6 images from video\n",
            "\n",
            "\n",
            "[MoviePy] >>>> Building video cropped_videos/Happy/541d1d4b-6f87-4cd8-89b5-d64baab3331f.mp4\n",
            "[MoviePy] Writing audio in 541d1d4b-6f87-4cd8-89b5-d64baab3331fTEMP_MPY_wvf_snd.mp3\n"
          ]
        },
        {
          "output_type": "stream",
          "name": "stderr",
          "text": [
            "100%|██████████| 221/221 [00:00<00:00, 491.88it/s]"
          ]
        },
        {
          "output_type": "stream",
          "name": "stdout",
          "text": [
            "[MoviePy] Done.\n",
            "[MoviePy] Writing video cropped_videos/Happy/541d1d4b-6f87-4cd8-89b5-d64baab3331f.mp4\n"
          ]
        },
        {
          "output_type": "stream",
          "name": "stderr",
          "text": [
            "\n",
            "100%|██████████| 240/240 [00:07<00:00, 30.08it/s]\n"
          ]
        },
        {
          "output_type": "stream",
          "name": "stdout",
          "text": [
            "[MoviePy] Done.\n",
            "[MoviePy] >>>> Video ready: cropped_videos/Happy/541d1d4b-6f87-4cd8-89b5-d64baab3331f.mp4 \n",
            "\n",
            "Video 43 downloaded\n",
            "Collected 6 images from video\n",
            "\n",
            "\n",
            "[MoviePy] >>>> Building video cropped_videos/Happy/a7972919-dc50-47f3-a473-fd657ae676fe.mp4\n",
            "[MoviePy] Writing audio in a7972919-dc50-47f3-a473-fd657ae676feTEMP_MPY_wvf_snd.mp3\n"
          ]
        },
        {
          "output_type": "stream",
          "name": "stderr",
          "text": [
            "100%|██████████| 199/199 [00:00<00:00, 516.77it/s]\n"
          ]
        },
        {
          "output_type": "stream",
          "name": "stdout",
          "text": [
            "[MoviePy] Done.\n",
            "[MoviePy] Writing video cropped_videos/Happy/a7972919-dc50-47f3-a473-fd657ae676fe.mp4\n"
          ]
        },
        {
          "output_type": "stream",
          "name": "stderr",
          "text": [
            "100%|██████████| 216/216 [00:06<00:00, 33.00it/s]\n"
          ]
        },
        {
          "output_type": "stream",
          "name": "stdout",
          "text": [
            "[MoviePy] Done.\n",
            "[MoviePy] >>>> Video ready: cropped_videos/Happy/a7972919-dc50-47f3-a473-fd657ae676fe.mp4 \n",
            "\n",
            "Video 44 downloaded\n",
            "Collected 6 images from video\n",
            "\n",
            "\n",
            "[MoviePy] >>>> Building video cropped_videos/Happy/cad0e3f8-5e7d-4c87-9d13-ab6a198aa039.mp4\n",
            "[MoviePy] Writing audio in cad0e3f8-5e7d-4c87-9d13-ab6a198aa039TEMP_MPY_wvf_snd.mp3\n"
          ]
        },
        {
          "output_type": "stream",
          "name": "stderr",
          "text": [
            "100%|██████████| 221/221 [00:00<00:00, 652.83it/s]"
          ]
        },
        {
          "output_type": "stream",
          "name": "stdout",
          "text": [
            "[MoviePy] Done.\n",
            "[MoviePy] Writing video cropped_videos/Happy/cad0e3f8-5e7d-4c87-9d13-ab6a198aa039.mp4\n"
          ]
        },
        {
          "output_type": "stream",
          "name": "stderr",
          "text": [
            "\n",
            "100%|██████████| 240/240 [00:08<00:00, 29.12it/s]\n"
          ]
        },
        {
          "output_type": "stream",
          "name": "stdout",
          "text": [
            "[MoviePy] Done.\n",
            "[MoviePy] >>>> Video ready: cropped_videos/Happy/cad0e3f8-5e7d-4c87-9d13-ab6a198aa039.mp4 \n",
            "\n",
            "Video 45 downloaded\n",
            "Collected 6 images from video\n",
            "\n",
            "\n",
            "Download is completed successfully\n",
            "[MoviePy] >>>> Building video cropped_videos/Happy/d54b01bc-bb45-4989-b398-a1599d8c4c9d.mp4\n",
            "[MoviePy] Writing audio in d54b01bc-bb45-4989-b398-a1599d8c4c9dTEMP_MPY_wvf_snd.mp3\n"
          ]
        },
        {
          "output_type": "stream",
          "name": "stderr",
          "text": [
            "100%|██████████| 221/221 [00:00<00:00, 505.75it/s]"
          ]
        },
        {
          "output_type": "stream",
          "name": "stdout",
          "text": [
            "[MoviePy] Done.\n",
            "[MoviePy] Writing video cropped_videos/Happy/d54b01bc-bb45-4989-b398-a1599d8c4c9d.mp4\n"
          ]
        },
        {
          "output_type": "stream",
          "name": "stderr",
          "text": [
            "\n",
            "100%|██████████| 300/300 [00:14<00:00, 20.94it/s]\n"
          ]
        },
        {
          "output_type": "stream",
          "name": "stdout",
          "text": [
            "[MoviePy] Done.\n",
            "[MoviePy] >>>> Video ready: cropped_videos/Happy/d54b01bc-bb45-4989-b398-a1599d8c4c9d.mp4 \n",
            "\n",
            "Video 46 downloaded\n",
            "Collected 6 images from video\n",
            "\n",
            "\n",
            "[MoviePy] >>>> Building video cropped_videos/Happy/718e5c37-1ac9-4ad1-a70a-66f647bf0bce.mp4\n",
            "[MoviePy] Writing audio in 718e5c37-1ac9-4ad1-a70a-66f647bf0bceTEMP_MPY_wvf_snd.mp3\n"
          ]
        },
        {
          "output_type": "stream",
          "name": "stderr",
          "text": [
            "100%|██████████| 199/199 [00:00<00:00, 403.16it/s]"
          ]
        },
        {
          "output_type": "stream",
          "name": "stdout",
          "text": [
            "[MoviePy] Done.\n",
            "[MoviePy] Writing video cropped_videos/Happy/718e5c37-1ac9-4ad1-a70a-66f647bf0bce.mp4\n"
          ]
        },
        {
          "output_type": "stream",
          "name": "stderr",
          "text": [
            "\n",
            "100%|██████████| 270/270 [00:12<00:00, 20.93it/s]\n"
          ]
        },
        {
          "output_type": "stream",
          "name": "stdout",
          "text": [
            "[MoviePy] Done.\n",
            "[MoviePy] >>>> Video ready: cropped_videos/Happy/718e5c37-1ac9-4ad1-a70a-66f647bf0bce.mp4 \n",
            "\n",
            "Video 47 downloaded\n",
            "Collected 6 images from video\n",
            "\n",
            "\n",
            "[MoviePy] >>>> Building video cropped_videos/Happy/7ece9f09-53b1-424e-bc91-ecdf5a3ffd2b.mp4\n",
            "[MoviePy] Writing audio in 7ece9f09-53b1-424e-bc91-ecdf5a3ffd2bTEMP_MPY_wvf_snd.mp3\n"
          ]
        },
        {
          "output_type": "stream",
          "name": "stderr",
          "text": [
            "100%|██████████| 199/199 [00:00<00:00, 506.33it/s]"
          ]
        },
        {
          "output_type": "stream",
          "name": "stdout",
          "text": [
            "[MoviePy] Done.\n"
          ]
        },
        {
          "output_type": "stream",
          "name": "stderr",
          "text": [
            "\n"
          ]
        },
        {
          "output_type": "stream",
          "name": "stdout",
          "text": [
            "[MoviePy] Writing video cropped_videos/Happy/7ece9f09-53b1-424e-bc91-ecdf5a3ffd2b.mp4\n"
          ]
        },
        {
          "output_type": "stream",
          "name": "stderr",
          "text": [
            "100%|██████████| 270/270 [00:18<00:00, 14.93it/s]\n"
          ]
        },
        {
          "output_type": "stream",
          "name": "stdout",
          "text": [
            "[MoviePy] Done.\n",
            "[MoviePy] >>>> Video ready: cropped_videos/Happy/7ece9f09-53b1-424e-bc91-ecdf5a3ffd2b.mp4 \n",
            "\n",
            "Video 48 downloaded\n",
            "Collected 6 images from video\n",
            "\n",
            "\n",
            "[MoviePy] >>>> Building video cropped_videos/Happy/6bbd0242-5237-4127-bfd2-c4b671c85b4b.mp4\n",
            "[MoviePy] Writing audio in 6bbd0242-5237-4127-bfd2-c4b671c85b4bTEMP_MPY_wvf_snd.mp3\n"
          ]
        },
        {
          "output_type": "stream",
          "name": "stderr",
          "text": [
            "100%|██████████| 199/199 [00:00<00:00, 511.86it/s]"
          ]
        },
        {
          "output_type": "stream",
          "name": "stdout",
          "text": [
            "[MoviePy] Done.\n"
          ]
        },
        {
          "output_type": "stream",
          "name": "stderr",
          "text": [
            "\n"
          ]
        },
        {
          "output_type": "stream",
          "name": "stdout",
          "text": [
            "[MoviePy] Writing video cropped_videos/Happy/6bbd0242-5237-4127-bfd2-c4b671c85b4b.mp4\n"
          ]
        },
        {
          "output_type": "stream",
          "name": "stderr",
          "text": [
            "100%|██████████| 270/270 [00:12<00:00, 21.09it/s]\n"
          ]
        },
        {
          "output_type": "stream",
          "name": "stdout",
          "text": [
            "[MoviePy] Done.\n",
            "[MoviePy] >>>> Video ready: cropped_videos/Happy/6bbd0242-5237-4127-bfd2-c4b671c85b4b.mp4 \n",
            "\n",
            "Video 49 downloaded\n",
            "Collected 6 images from video\n",
            "\n",
            "\n",
            "[MoviePy] >>>> Building video cropped_videos/Happy/bac5d42f-4e49-479b-9b02-2530789b54ce.mp4\n",
            "[MoviePy] Writing audio in bac5d42f-4e49-479b-9b02-2530789b54ceTEMP_MPY_wvf_snd.mp3\n"
          ]
        },
        {
          "output_type": "stream",
          "name": "stderr",
          "text": [
            "100%|██████████| 221/221 [00:00<00:00, 492.12it/s]"
          ]
        },
        {
          "output_type": "stream",
          "name": "stdout",
          "text": [
            "[MoviePy] Done.\n",
            "[MoviePy] Writing video cropped_videos/Happy/bac5d42f-4e49-479b-9b02-2530789b54ce.mp4\n"
          ]
        },
        {
          "output_type": "stream",
          "name": "stderr",
          "text": [
            "\n",
            "100%|██████████| 300/300 [00:14<00:00, 20.52it/s]\n"
          ]
        },
        {
          "output_type": "stream",
          "name": "stdout",
          "text": [
            "[MoviePy] Done.\n",
            "[MoviePy] >>>> Video ready: cropped_videos/Happy/bac5d42f-4e49-479b-9b02-2530789b54ce.mp4 \n",
            "\n",
            "Video 50 downloaded\n",
            "Collected 6 images from video\n",
            "\n",
            "\n",
            "[MoviePy] >>>> Building video cropped_videos/Happy/03dce90a-d052-4021-aa4c-abff16d3ec28.mp4\n",
            "[MoviePy] Writing audio in 03dce90a-d052-4021-aa4c-abff16d3ec28TEMP_MPY_wvf_snd.mp3\n"
          ]
        },
        {
          "output_type": "stream",
          "name": "stderr",
          "text": [
            "100%|██████████| 221/221 [00:00<00:00, 488.21it/s]"
          ]
        },
        {
          "output_type": "stream",
          "name": "stdout",
          "text": [
            "[MoviePy] Done.\n",
            "[MoviePy] Writing video cropped_videos/Happy/03dce90a-d052-4021-aa4c-abff16d3ec28.mp4\n"
          ]
        },
        {
          "output_type": "stream",
          "name": "stderr",
          "text": [
            "\n",
            "100%|██████████| 300/300 [00:16<00:00, 18.55it/s]\n"
          ]
        },
        {
          "output_type": "stream",
          "name": "stdout",
          "text": [
            "[MoviePy] Done.\n",
            "[MoviePy] >>>> Video ready: cropped_videos/Happy/03dce90a-d052-4021-aa4c-abff16d3ec28.mp4 \n",
            "\n",
            "Video 51 downloaded\n",
            "Collected 6 images from video\n",
            "\n",
            "\n",
            "[MoviePy] >>>> Building video cropped_videos/Happy/9f9ab5ac-56ee-4179-8d0b-3ca2c1daaa76.mp4\n",
            "[MoviePy] Writing audio in 9f9ab5ac-56ee-4179-8d0b-3ca2c1daaa76TEMP_MPY_wvf_snd.mp3\n"
          ]
        },
        {
          "output_type": "stream",
          "name": "stderr",
          "text": [
            "100%|██████████| 221/221 [00:00<00:00, 505.36it/s]"
          ]
        },
        {
          "output_type": "stream",
          "name": "stdout",
          "text": [
            "[MoviePy] Done.\n",
            "[MoviePy] Writing video cropped_videos/Happy/9f9ab5ac-56ee-4179-8d0b-3ca2c1daaa76.mp4\n"
          ]
        },
        {
          "output_type": "stream",
          "name": "stderr",
          "text": [
            "\n",
            "100%|██████████| 300/300 [00:13<00:00, 21.94it/s]\n"
          ]
        },
        {
          "output_type": "stream",
          "name": "stdout",
          "text": [
            "[MoviePy] Done.\n",
            "[MoviePy] >>>> Video ready: cropped_videos/Happy/9f9ab5ac-56ee-4179-8d0b-3ca2c1daaa76.mp4 \n",
            "\n",
            "Video 52 downloaded\n",
            "Collected 6 images from video\n",
            "\n",
            "\n",
            "[MoviePy] >>>> Building video cropped_videos/Happy/4a798bd8-95e8-4106-b627-e6dd85b3ccbb.mp4\n",
            "[MoviePy] Writing audio in 4a798bd8-95e8-4106-b627-e6dd85b3ccbbTEMP_MPY_wvf_snd.mp3\n"
          ]
        },
        {
          "output_type": "stream",
          "name": "stderr",
          "text": [
            "100%|██████████| 221/221 [00:00<00:00, 507.32it/s]"
          ]
        },
        {
          "output_type": "stream",
          "name": "stdout",
          "text": [
            "[MoviePy] Done.\n",
            "[MoviePy] Writing video cropped_videos/Happy/4a798bd8-95e8-4106-b627-e6dd85b3ccbb.mp4\n"
          ]
        },
        {
          "output_type": "stream",
          "name": "stderr",
          "text": [
            "\n",
            "100%|██████████| 300/300 [00:15<00:00, 19.02it/s]\n"
          ]
        },
        {
          "output_type": "stream",
          "name": "stdout",
          "text": [
            "[MoviePy] Done.\n",
            "[MoviePy] >>>> Video ready: cropped_videos/Happy/4a798bd8-95e8-4106-b627-e6dd85b3ccbb.mp4 \n",
            "\n",
            "Video 53 downloaded\n",
            "Collected 6 images from video\n",
            "\n",
            "\n",
            "[MoviePy] >>>> Building video cropped_videos/Happy/c4210964-bd47-40cd-bd87-ceaf7ddd99be.mp4\n",
            "[MoviePy] Writing audio in c4210964-bd47-40cd-bd87-ceaf7ddd99beTEMP_MPY_wvf_snd.mp3\n"
          ]
        },
        {
          "output_type": "stream",
          "name": "stderr",
          "text": [
            "100%|██████████| 221/221 [00:00<00:00, 524.36it/s]"
          ]
        },
        {
          "output_type": "stream",
          "name": "stdout",
          "text": [
            "[MoviePy] Done.\n",
            "[MoviePy] Writing video cropped_videos/Happy/c4210964-bd47-40cd-bd87-ceaf7ddd99be.mp4\n"
          ]
        },
        {
          "output_type": "stream",
          "name": "stderr",
          "text": [
            "\n",
            "100%|██████████| 300/300 [00:14<00:00, 21.36it/s]\n"
          ]
        },
        {
          "output_type": "stream",
          "name": "stdout",
          "text": [
            "[MoviePy] Done.\n",
            "[MoviePy] >>>> Video ready: cropped_videos/Happy/c4210964-bd47-40cd-bd87-ceaf7ddd99be.mp4 \n",
            "\n",
            "Video 54 downloaded\n",
            "Collected 6 images from video\n",
            "\n",
            "\n",
            "[MoviePy] >>>> Building video cropped_videos/Happy/87db7272-4076-45cf-8633-f646fa9b0d36.mp4\n",
            "[MoviePy] Writing audio in 87db7272-4076-45cf-8633-f646fa9b0d36TEMP_MPY_wvf_snd.mp3\n"
          ]
        },
        {
          "output_type": "stream",
          "name": "stderr",
          "text": [
            "100%|██████████| 221/221 [00:00<00:00, 477.79it/s]"
          ]
        },
        {
          "output_type": "stream",
          "name": "stdout",
          "text": [
            "[MoviePy] Done.\n",
            "[MoviePy] Writing video cropped_videos/Happy/87db7272-4076-45cf-8633-f646fa9b0d36.mp4\n"
          ]
        },
        {
          "output_type": "stream",
          "name": "stderr",
          "text": [
            "\n",
            "100%|██████████| 300/300 [00:13<00:00, 22.59it/s]\n"
          ]
        },
        {
          "output_type": "stream",
          "name": "stdout",
          "text": [
            "[MoviePy] Done.\n",
            "[MoviePy] >>>> Video ready: cropped_videos/Happy/87db7272-4076-45cf-8633-f646fa9b0d36.mp4 \n",
            "\n",
            "Video 55 downloaded\n",
            "Collected 6 images from video\n",
            "\n",
            "\n",
            "[MoviePy] >>>> Building video cropped_videos/Happy/e1dbd2ce-d423-4e6c-841a-f646fd23a711.mp4\n",
            "[MoviePy] Writing audio in e1dbd2ce-d423-4e6c-841a-f646fd23a711TEMP_MPY_wvf_snd.mp3\n"
          ]
        },
        {
          "output_type": "stream",
          "name": "stderr",
          "text": [
            "100%|██████████| 221/221 [00:00<00:00, 489.85it/s]"
          ]
        },
        {
          "output_type": "stream",
          "name": "stdout",
          "text": [
            "[MoviePy] Done.\n",
            "[MoviePy] Writing video cropped_videos/Happy/e1dbd2ce-d423-4e6c-841a-f646fd23a711.mp4\n"
          ]
        },
        {
          "output_type": "stream",
          "name": "stderr",
          "text": [
            "\n",
            "100%|██████████| 300/300 [00:16<00:00, 18.45it/s]\n"
          ]
        },
        {
          "output_type": "stream",
          "name": "stdout",
          "text": [
            "[MoviePy] Done.\n",
            "[MoviePy] >>>> Video ready: cropped_videos/Happy/e1dbd2ce-d423-4e6c-841a-f646fd23a711.mp4 \n",
            "\n",
            "Video 56 downloaded\n",
            "Collected 6 images from video\n",
            "\n",
            "\n",
            "[MoviePy] >>>> Building video cropped_videos/Happy/5ae2140a-a037-4af2-aff5-f54fcf7f4b02.mp4\n",
            "[MoviePy] Writing audio in 5ae2140a-a037-4af2-aff5-f54fcf7f4b02TEMP_MPY_wvf_snd.mp3\n"
          ]
        },
        {
          "output_type": "stream",
          "name": "stderr",
          "text": [
            "100%|██████████| 221/221 [00:00<00:00, 345.92it/s]"
          ]
        },
        {
          "output_type": "stream",
          "name": "stdout",
          "text": [
            "[MoviePy] Done.\n",
            "[MoviePy] Writing video cropped_videos/Happy/5ae2140a-a037-4af2-aff5-f54fcf7f4b02.mp4\n"
          ]
        },
        {
          "output_type": "stream",
          "name": "stderr",
          "text": [
            "\n",
            "100%|██████████| 300/300 [00:15<00:00, 18.95it/s]\n"
          ]
        },
        {
          "output_type": "stream",
          "name": "stdout",
          "text": [
            "[MoviePy] Done.\n",
            "[MoviePy] >>>> Video ready: cropped_videos/Happy/5ae2140a-a037-4af2-aff5-f54fcf7f4b02.mp4 \n",
            "\n",
            "Video 57 downloaded\n",
            "Collected 6 images from video\n",
            "\n",
            "\n",
            "[MoviePy] >>>> Building video cropped_videos/Happy/c12158cd-18aa-449f-a1c6-578de6f9e3e3.mp4\n",
            "[MoviePy] Writing audio in c12158cd-18aa-449f-a1c6-578de6f9e3e3TEMP_MPY_wvf_snd.mp3\n"
          ]
        },
        {
          "output_type": "stream",
          "name": "stderr",
          "text": [
            "100%|██████████| 221/221 [00:00<00:00, 488.10it/s]"
          ]
        },
        {
          "output_type": "stream",
          "name": "stdout",
          "text": [
            "[MoviePy] Done.\n",
            "[MoviePy] Writing video cropped_videos/Happy/c12158cd-18aa-449f-a1c6-578de6f9e3e3.mp4\n"
          ]
        },
        {
          "output_type": "stream",
          "name": "stderr",
          "text": [
            "\n",
            "100%|██████████| 300/300 [00:15<00:00, 19.42it/s]\n"
          ]
        },
        {
          "output_type": "stream",
          "name": "stdout",
          "text": [
            "[MoviePy] Done.\n",
            "[MoviePy] >>>> Video ready: cropped_videos/Happy/c12158cd-18aa-449f-a1c6-578de6f9e3e3.mp4 \n",
            "\n",
            "Video 58 downloaded\n",
            "Collected 6 images from video\n",
            "\n",
            "\n",
            "[MoviePy] >>>> Building video cropped_videos/Happy/a1d4e76b-f414-493a-81c1-374e1fc6d4d2.mp4\n",
            "[MoviePy] Writing audio in a1d4e76b-f414-493a-81c1-374e1fc6d4d2TEMP_MPY_wvf_snd.mp3\n"
          ]
        },
        {
          "output_type": "stream",
          "name": "stderr",
          "text": [
            "100%|██████████| 221/221 [00:00<00:00, 519.60it/s]"
          ]
        },
        {
          "output_type": "stream",
          "name": "stdout",
          "text": [
            "[MoviePy] Done.\n",
            "[MoviePy] Writing video cropped_videos/Happy/a1d4e76b-f414-493a-81c1-374e1fc6d4d2.mp4\n"
          ]
        },
        {
          "output_type": "stream",
          "name": "stderr",
          "text": [
            "\n",
            "100%|██████████| 300/300 [00:14<00:00, 21.18it/s]\n"
          ]
        },
        {
          "output_type": "stream",
          "name": "stdout",
          "text": [
            "[MoviePy] Done.\n",
            "[MoviePy] >>>> Video ready: cropped_videos/Happy/a1d4e76b-f414-493a-81c1-374e1fc6d4d2.mp4 \n",
            "\n",
            "Video 59 downloaded\n",
            "Collected 6 images from video\n",
            "\n",
            "\n",
            "[MoviePy] >>>> Building video cropped_videos/Happy/e8e055a3-1298-4eee-bf3d-0a30fdc07093.mp4\n",
            "[MoviePy] Writing audio in e8e055a3-1298-4eee-bf3d-0a30fdc07093TEMP_MPY_wvf_snd.mp3\n"
          ]
        },
        {
          "output_type": "stream",
          "name": "stderr",
          "text": [
            "100%|██████████| 221/221 [00:00<00:00, 530.94it/s]\n"
          ]
        },
        {
          "output_type": "stream",
          "name": "stdout",
          "text": [
            "[MoviePy] Done.\n",
            "[MoviePy] Writing video cropped_videos/Happy/e8e055a3-1298-4eee-bf3d-0a30fdc07093.mp4\n"
          ]
        },
        {
          "output_type": "stream",
          "name": "stderr",
          "text": [
            "100%|██████████| 300/300 [00:16<00:00, 18.73it/s]\n"
          ]
        },
        {
          "output_type": "stream",
          "name": "stdout",
          "text": [
            "[MoviePy] Done.\n",
            "[MoviePy] >>>> Video ready: cropped_videos/Happy/e8e055a3-1298-4eee-bf3d-0a30fdc07093.mp4 \n",
            "\n",
            "Video 60 downloaded\n",
            "Collected 6 images from video\n",
            "\n",
            "\n",
            "Download is completed successfully\n",
            "[MoviePy] >>>> Building video cropped_videos/Happy/bc6cd21e-97ea-4658-9234-28f96be14b82.mp4\n",
            "[MoviePy] Writing audio in bc6cd21e-97ea-4658-9234-28f96be14b82TEMP_MPY_wvf_snd.mp3\n"
          ]
        },
        {
          "output_type": "stream",
          "name": "stderr",
          "text": [
            "100%|██████████| 221/221 [00:00<00:00, 581.33it/s]"
          ]
        },
        {
          "output_type": "stream",
          "name": "stdout",
          "text": [
            "[MoviePy] Done.\n",
            "[MoviePy] Writing video cropped_videos/Happy/bc6cd21e-97ea-4658-9234-28f96be14b82.mp4\n"
          ]
        },
        {
          "output_type": "stream",
          "name": "stderr",
          "text": [
            "\n",
            "100%|██████████| 300/300 [00:13<00:00, 21.77it/s]\n"
          ]
        },
        {
          "output_type": "stream",
          "name": "stdout",
          "text": [
            "[MoviePy] Done.\n",
            "[MoviePy] >>>> Video ready: cropped_videos/Happy/bc6cd21e-97ea-4658-9234-28f96be14b82.mp4 \n",
            "\n",
            "Video 61 downloaded\n",
            "Collected 6 images from video\n",
            "\n",
            "\n",
            "[MoviePy] >>>> Building video cropped_videos/Happy/66f53434-5035-458f-9d93-31a6d2413e0a.mp4\n",
            "[MoviePy] Writing audio in 66f53434-5035-458f-9d93-31a6d2413e0aTEMP_MPY_wvf_snd.mp3\n"
          ]
        },
        {
          "output_type": "stream",
          "name": "stderr",
          "text": [
            "100%|██████████| 199/199 [00:00<00:00, 510.01it/s]\n"
          ]
        },
        {
          "output_type": "stream",
          "name": "stdout",
          "text": [
            "[MoviePy] Done.\n",
            "[MoviePy] Writing video cropped_videos/Happy/66f53434-5035-458f-9d93-31a6d2413e0a.mp4\n"
          ]
        },
        {
          "output_type": "stream",
          "name": "stderr",
          "text": [
            "100%|██████████| 270/270 [00:14<00:00, 18.10it/s]\n"
          ]
        },
        {
          "output_type": "stream",
          "name": "stdout",
          "text": [
            "[MoviePy] Done.\n",
            "[MoviePy] >>>> Video ready: cropped_videos/Happy/66f53434-5035-458f-9d93-31a6d2413e0a.mp4 \n",
            "\n",
            "Video 62 downloaded\n",
            "Collected 6 images from video\n",
            "\n",
            "\n",
            "[MoviePy] >>>> Building video cropped_videos/Happy/db3724ad-930a-41b8-a270-f8ec4bdb3d62.mp4\n",
            "[MoviePy] Writing audio in db3724ad-930a-41b8-a270-f8ec4bdb3d62TEMP_MPY_wvf_snd.mp3\n"
          ]
        },
        {
          "output_type": "stream",
          "name": "stderr",
          "text": [
            "100%|██████████| 221/221 [00:00<00:00, 539.58it/s]"
          ]
        },
        {
          "output_type": "stream",
          "name": "stdout",
          "text": [
            "[MoviePy] Done.\n",
            "[MoviePy] Writing video cropped_videos/Happy/db3724ad-930a-41b8-a270-f8ec4bdb3d62.mp4\n"
          ]
        },
        {
          "output_type": "stream",
          "name": "stderr",
          "text": [
            "\n",
            "100%|██████████| 300/300 [00:13<00:00, 21.85it/s]\n"
          ]
        },
        {
          "output_type": "stream",
          "name": "stdout",
          "text": [
            "[MoviePy] Done.\n",
            "[MoviePy] >>>> Video ready: cropped_videos/Happy/db3724ad-930a-41b8-a270-f8ec4bdb3d62.mp4 \n",
            "\n",
            "Video 63 downloaded\n",
            "Collected 6 images from video\n",
            "\n",
            "\n",
            "[MoviePy] >>>> Building video cropped_videos/Happy/2953e249-5681-446a-a55d-39dafa6447c3.mp4\n",
            "[MoviePy] Writing audio in 2953e249-5681-446a-a55d-39dafa6447c3TEMP_MPY_wvf_snd.mp3\n"
          ]
        },
        {
          "output_type": "stream",
          "name": "stderr",
          "text": [
            "100%|██████████| 221/221 [00:00<00:00, 518.65it/s]"
          ]
        },
        {
          "output_type": "stream",
          "name": "stdout",
          "text": [
            "[MoviePy] Done.\n",
            "[MoviePy] Writing video cropped_videos/Happy/2953e249-5681-446a-a55d-39dafa6447c3.mp4\n"
          ]
        },
        {
          "output_type": "stream",
          "name": "stderr",
          "text": [
            "\n",
            "100%|██████████| 300/300 [00:13<00:00, 21.48it/s]\n"
          ]
        },
        {
          "output_type": "stream",
          "name": "stdout",
          "text": [
            "[MoviePy] Done.\n",
            "[MoviePy] >>>> Video ready: cropped_videos/Happy/2953e249-5681-446a-a55d-39dafa6447c3.mp4 \n",
            "\n",
            "Video 64 downloaded\n",
            "Collected 6 images from video\n",
            "\n",
            "\n",
            "[MoviePy] >>>> Building video cropped_videos/Happy/e0ac8d17-27c9-4fb6-a003-7399bc48ad9a.mp4\n",
            "[MoviePy] Writing audio in e0ac8d17-27c9-4fb6-a003-7399bc48ad9aTEMP_MPY_wvf_snd.mp3\n"
          ]
        },
        {
          "output_type": "stream",
          "name": "stderr",
          "text": [
            "100%|██████████| 177/177 [00:00<00:00, 498.30it/s]"
          ]
        },
        {
          "output_type": "stream",
          "name": "stdout",
          "text": [
            "[MoviePy] Done.\n",
            "[MoviePy] Writing video cropped_videos/Happy/e0ac8d17-27c9-4fb6-a003-7399bc48ad9a.mp4\n"
          ]
        },
        {
          "output_type": "stream",
          "name": "stderr",
          "text": [
            "\n",
            "100%|██████████| 240/240 [00:11<00:00, 20.22it/s]\n"
          ]
        },
        {
          "output_type": "stream",
          "name": "stdout",
          "text": [
            "[MoviePy] Done.\n",
            "[MoviePy] >>>> Video ready: cropped_videos/Happy/e0ac8d17-27c9-4fb6-a003-7399bc48ad9a.mp4 \n",
            "\n",
            "Video 65 downloaded\n",
            "Collected 6 images from video\n",
            "\n",
            "\n",
            "[MoviePy] >>>> Building video cropped_videos/Happy/12ee3fec-52d5-46af-8531-65f03fa08c85.mp4\n",
            "[MoviePy] Writing audio in 12ee3fec-52d5-46af-8531-65f03fa08c85TEMP_MPY_wvf_snd.mp3\n"
          ]
        },
        {
          "output_type": "stream",
          "name": "stderr",
          "text": [
            "100%|██████████| 221/221 [00:00<00:00, 463.86it/s]"
          ]
        },
        {
          "output_type": "stream",
          "name": "stdout",
          "text": [
            "[MoviePy] Done.\n",
            "[MoviePy] Writing video cropped_videos/Happy/12ee3fec-52d5-46af-8531-65f03fa08c85.mp4\n"
          ]
        },
        {
          "output_type": "stream",
          "name": "stderr",
          "text": [
            "\n",
            "100%|██████████| 300/300 [00:15<00:00, 19.57it/s]\n"
          ]
        },
        {
          "output_type": "stream",
          "name": "stdout",
          "text": [
            "[MoviePy] Done.\n",
            "[MoviePy] >>>> Video ready: cropped_videos/Happy/12ee3fec-52d5-46af-8531-65f03fa08c85.mp4 \n",
            "\n",
            "Video 66 downloaded\n",
            "Collected 6 images from video\n",
            "\n",
            "\n",
            "Download is completed successfully\n",
            "[MoviePy] >>>> Building video cropped_videos/Happy/eee22594-e06f-4369-ba05-685c2b1df6b0.mp4\n",
            "[MoviePy] Writing audio in eee22594-e06f-4369-ba05-685c2b1df6b0TEMP_MPY_wvf_snd.mp3\n"
          ]
        },
        {
          "output_type": "stream",
          "name": "stderr",
          "text": [
            "100%|██████████| 221/221 [00:00<00:00, 539.46it/s]"
          ]
        },
        {
          "output_type": "stream",
          "name": "stdout",
          "text": [
            "[MoviePy] Done.\n",
            "[MoviePy] Writing video cropped_videos/Happy/eee22594-e06f-4369-ba05-685c2b1df6b0.mp4\n"
          ]
        },
        {
          "output_type": "stream",
          "name": "stderr",
          "text": [
            "\n",
            "100%|█████████▉| 250/251 [00:08<00:00, 28.37it/s]\n"
          ]
        },
        {
          "output_type": "stream",
          "name": "stdout",
          "text": [
            "[MoviePy] Done.\n",
            "[MoviePy] >>>> Video ready: cropped_videos/Happy/eee22594-e06f-4369-ba05-685c2b1df6b0.mp4 \n",
            "\n",
            "Video 67 downloaded\n",
            "Collected 6 images from video\n",
            "\n",
            "\n",
            "Download is completed successfully\n",
            "[MoviePy] >>>> Building video cropped_videos/Happy/9d636b56-7786-4e69-9dd9-6dbab85ef1aa.mp4\n",
            "[MoviePy] Writing audio in 9d636b56-7786-4e69-9dd9-6dbab85ef1aaTEMP_MPY_wvf_snd.mp3\n"
          ]
        },
        {
          "output_type": "stream",
          "name": "stderr",
          "text": [
            "100%|██████████| 199/199 [00:00<00:00, 432.47it/s]"
          ]
        },
        {
          "output_type": "stream",
          "name": "stdout",
          "text": [
            "[MoviePy] Done.\n",
            "[MoviePy] Writing video cropped_videos/Happy/9d636b56-7786-4e69-9dd9-6dbab85ef1aa.mp4\n"
          ]
        },
        {
          "output_type": "stream",
          "name": "stderr",
          "text": [
            "\n",
            "100%|██████████| 270/270 [00:09<00:00, 27.68it/s]\n"
          ]
        },
        {
          "output_type": "stream",
          "name": "stdout",
          "text": [
            "[MoviePy] Done.\n",
            "[MoviePy] >>>> Video ready: cropped_videos/Happy/9d636b56-7786-4e69-9dd9-6dbab85ef1aa.mp4 \n",
            "\n",
            "Video 68 downloaded\n",
            "Collected 6 images from video\n",
            "\n",
            "\n",
            "[MoviePy] >>>> Building video cropped_videos/Happy/a63b624c-3967-49ff-a361-21d45bfec065.mp4\n",
            "[MoviePy] Writing audio in a63b624c-3967-49ff-a361-21d45bfec065TEMP_MPY_wvf_snd.mp3\n"
          ]
        },
        {
          "output_type": "stream",
          "name": "stderr",
          "text": [
            "100%|██████████| 177/177 [00:00<00:00, 373.64it/s]"
          ]
        },
        {
          "output_type": "stream",
          "name": "stdout",
          "text": [
            "[MoviePy] Done.\n",
            "[MoviePy] Writing video cropped_videos/Happy/a63b624c-3967-49ff-a361-21d45bfec065.mp4\n"
          ]
        },
        {
          "output_type": "stream",
          "name": "stderr",
          "text": [
            "\n",
            "100%|██████████| 240/240 [00:08<00:00, 28.60it/s]\n"
          ]
        },
        {
          "output_type": "stream",
          "name": "stdout",
          "text": [
            "[MoviePy] Done.\n",
            "[MoviePy] >>>> Video ready: cropped_videos/Happy/a63b624c-3967-49ff-a361-21d45bfec065.mp4 \n",
            "\n",
            "Video 69 downloaded\n",
            "Collected 6 images from video\n",
            "\n",
            "\n",
            "[MoviePy] >>>> Building video cropped_videos/Happy/e2c68d9e-21e3-416e-85da-0a44f552c194.mp4\n",
            "[MoviePy] Writing audio in e2c68d9e-21e3-416e-85da-0a44f552c194TEMP_MPY_wvf_snd.mp3\n"
          ]
        },
        {
          "output_type": "stream",
          "name": "stderr",
          "text": [
            "100%|██████████| 221/221 [00:00<00:00, 435.17it/s]"
          ]
        },
        {
          "output_type": "stream",
          "name": "stdout",
          "text": [
            "[MoviePy] Done.\n",
            "[MoviePy] Writing video cropped_videos/Happy/e2c68d9e-21e3-416e-85da-0a44f552c194.mp4\n"
          ]
        },
        {
          "output_type": "stream",
          "name": "stderr",
          "text": [
            "\n",
            "100%|██████████| 300/300 [00:11<00:00, 25.62it/s]\n"
          ]
        },
        {
          "output_type": "stream",
          "name": "stdout",
          "text": [
            "[MoviePy] Done.\n",
            "[MoviePy] >>>> Video ready: cropped_videos/Happy/e2c68d9e-21e3-416e-85da-0a44f552c194.mp4 \n",
            "\n",
            "Video 70 downloaded\n",
            "Collected 6 images from video\n",
            "\n",
            "\n",
            "[MoviePy] >>>> Building video cropped_videos/Happy/4f6462b5-a6fb-4ff2-add1-4af43169bd56.mp4\n",
            "[MoviePy] Writing audio in 4f6462b5-a6fb-4ff2-add1-4af43169bd56TEMP_MPY_wvf_snd.mp3\n"
          ]
        },
        {
          "output_type": "stream",
          "name": "stderr",
          "text": [
            "100%|██████████| 221/221 [00:00<00:00, 459.78it/s]"
          ]
        },
        {
          "output_type": "stream",
          "name": "stdout",
          "text": [
            "[MoviePy] Done.\n",
            "[MoviePy] Writing video cropped_videos/Happy/4f6462b5-a6fb-4ff2-add1-4af43169bd56.mp4\n"
          ]
        },
        {
          "output_type": "stream",
          "name": "stderr",
          "text": [
            "\n",
            "100%|██████████| 300/300 [00:12<00:00, 24.71it/s]\n"
          ]
        },
        {
          "output_type": "stream",
          "name": "stdout",
          "text": [
            "[MoviePy] Done.\n",
            "[MoviePy] >>>> Video ready: cropped_videos/Happy/4f6462b5-a6fb-4ff2-add1-4af43169bd56.mp4 \n",
            "\n",
            "Video 71 downloaded\n",
            "Collected 6 images from video\n",
            "\n",
            "\n",
            "[MoviePy] >>>> Building video cropped_videos/Happy/4e367067-f836-46e0-8712-6777034f831b.mp4\n",
            "[MoviePy] Writing audio in 4e367067-f836-46e0-8712-6777034f831bTEMP_MPY_wvf_snd.mp3\n"
          ]
        },
        {
          "output_type": "stream",
          "name": "stderr",
          "text": [
            "100%|██████████| 221/221 [00:00<00:00, 450.42it/s]"
          ]
        },
        {
          "output_type": "stream",
          "name": "stdout",
          "text": [
            "[MoviePy] Done.\n",
            "[MoviePy] Writing video cropped_videos/Happy/4e367067-f836-46e0-8712-6777034f831b.mp4\n"
          ]
        },
        {
          "output_type": "stream",
          "name": "stderr",
          "text": [
            "\n",
            "100%|█████████▉| 240/241 [00:12<00:00, 18.98it/s]\n"
          ]
        },
        {
          "output_type": "stream",
          "name": "stdout",
          "text": [
            "[MoviePy] Done.\n",
            "[MoviePy] >>>> Video ready: cropped_videos/Happy/4e367067-f836-46e0-8712-6777034f831b.mp4 \n",
            "\n",
            "Video 72 downloaded\n",
            "Collected 6 images from video\n",
            "\n",
            "\n",
            "[MoviePy] >>>> Building video cropped_videos/Happy/41075a35-33aa-47fe-8b81-352cf3e26c67.mp4\n",
            "[MoviePy] Writing audio in 41075a35-33aa-47fe-8b81-352cf3e26c67TEMP_MPY_wvf_snd.mp3\n"
          ]
        },
        {
          "output_type": "stream",
          "name": "stderr",
          "text": [
            "100%|██████████| 221/221 [00:00<00:00, 429.95it/s]\n"
          ]
        },
        {
          "output_type": "stream",
          "name": "stdout",
          "text": [
            "[MoviePy] Done.\n",
            "[MoviePy] Writing video cropped_videos/Happy/41075a35-33aa-47fe-8b81-352cf3e26c67.mp4\n"
          ]
        },
        {
          "output_type": "stream",
          "name": "stderr",
          "text": [
            "100%|█████████▉| 240/241 [00:17<00:00, 13.95it/s]\n"
          ]
        },
        {
          "output_type": "stream",
          "name": "stdout",
          "text": [
            "[MoviePy] Done.\n",
            "[MoviePy] >>>> Video ready: cropped_videos/Happy/41075a35-33aa-47fe-8b81-352cf3e26c67.mp4 \n",
            "\n",
            "Video 73 downloaded\n",
            "Collected 6 images from video\n",
            "\n",
            "\n",
            "[MoviePy] >>>> Building video cropped_videos/Happy/04710b98-12d2-492d-9c0d-5f112529fbb3.mp4\n",
            "[MoviePy] Writing audio in 04710b98-12d2-492d-9c0d-5f112529fbb3TEMP_MPY_wvf_snd.mp3\n"
          ]
        },
        {
          "output_type": "stream",
          "name": "stderr",
          "text": [
            "100%|██████████| 177/177 [00:00<00:00, 427.18it/s]"
          ]
        },
        {
          "output_type": "stream",
          "name": "stdout",
          "text": [
            "[MoviePy] Done.\n"
          ]
        },
        {
          "output_type": "stream",
          "name": "stderr",
          "text": [
            "\n"
          ]
        },
        {
          "output_type": "stream",
          "name": "stdout",
          "text": [
            "[MoviePy] Writing video cropped_videos/Happy/04710b98-12d2-492d-9c0d-5f112529fbb3.mp4\n"
          ]
        },
        {
          "output_type": "stream",
          "name": "stderr",
          "text": [
            " 99%|█████████▉| 192/193 [00:07<00:00, 24.67it/s]\n"
          ]
        },
        {
          "output_type": "stream",
          "name": "stdout",
          "text": [
            "[MoviePy] Done.\n",
            "[MoviePy] >>>> Video ready: cropped_videos/Happy/04710b98-12d2-492d-9c0d-5f112529fbb3.mp4 \n",
            "\n",
            "Video 74 downloaded\n",
            "Collected 6 images from video\n",
            "\n",
            "\n",
            "[MoviePy] >>>> Building video cropped_videos/Happy/e16040ed-1ea2-4cc4-a8af-0beef02188e6.mp4\n",
            "[MoviePy] Writing audio in e16040ed-1ea2-4cc4-a8af-0beef02188e6TEMP_MPY_wvf_snd.mp3\n"
          ]
        },
        {
          "output_type": "stream",
          "name": "stderr",
          "text": [
            "100%|██████████| 221/221 [00:00<00:00, 428.48it/s]"
          ]
        },
        {
          "output_type": "stream",
          "name": "stdout",
          "text": [
            "[MoviePy] Done.\n",
            "[MoviePy] Writing video cropped_videos/Happy/e16040ed-1ea2-4cc4-a8af-0beef02188e6.mp4\n"
          ]
        },
        {
          "output_type": "stream",
          "name": "stderr",
          "text": [
            "\n",
            "100%|█████████▉| 240/241 [00:08<00:00, 26.82it/s]\n"
          ]
        },
        {
          "output_type": "stream",
          "name": "stdout",
          "text": [
            "[MoviePy] Done.\n",
            "[MoviePy] >>>> Video ready: cropped_videos/Happy/e16040ed-1ea2-4cc4-a8af-0beef02188e6.mp4 \n",
            "\n",
            "Video 75 downloaded\n",
            "Collected 6 images from video\n",
            "\n",
            "\n"
          ]
        }
      ]
    }
  ]
}